{
 "cells": [
  {
   "cell_type": "code",
   "execution_count": 2,
   "id": "b82bc92c-13bf-401d-851e-19e37e90598e",
   "metadata": {},
   "outputs": [
    {
     "name": "stdout",
     "output_type": "stream",
     "text": [
      "1.25.1\n"
     ]
    }
   ],
   "source": [
    "#to check the version of anaconda\n",
    "import numpy as np\n",
    "print(np.__version__)"
   ]
  },
  {
   "cell_type": "code",
   "execution_count": 2,
   "id": "52f50417-f7a8-4b9f-892c-81914c9edbcd",
   "metadata": {},
   "outputs": [
    {
     "name": "stdout",
     "output_type": "stream",
     "text": [
      "[1 2 3 4]\n"
     ]
    }
   ],
   "source": [
    "#to access array\n",
    "import numpy as np\n",
    "arr = np.array([1,2,3,4])\n",
    "print(arr)"
   ]
  },
  {
   "cell_type": "code",
   "execution_count": 15,
   "id": "963673e7-29fe-48d2-9da7-b7c2711f8585",
   "metadata": {},
   "outputs": [
    {
     "name": "stdout",
     "output_type": "stream",
     "text": [
      "int32\n"
     ]
    }
   ],
   "source": [
    "#to access datatypes of array\n",
    "import numpy as np\n",
    "arr = np.array([1,2,3,4])\n",
    "print(arr.dtype)"
   ]
  },
  {
   "cell_type": "code",
   "execution_count": 16,
   "id": "fb430b94-7bfd-45f6-aa40-1ae8d6abf5ca",
   "metadata": {},
   "outputs": [
    {
     "name": "stdout",
     "output_type": "stream",
     "text": [
      "42\n"
     ]
    }
   ],
   "source": [
    "#1-D array\n",
    "import numpy as np\n",
    "arr = np.array(42)\n",
    "print(arr)"
   ]
  },
  {
   "cell_type": "code",
   "execution_count": 10,
   "id": "1582e2de-9cd7-43d0-91e9-e07983e9f3b9",
   "metadata": {},
   "outputs": [
    {
     "name": "stdout",
     "output_type": "stream",
     "text": [
      "[[1 2 3]\n",
      " [4 5 6]]\n"
     ]
    }
   ],
   "source": [
    "#2-D array\n",
    "import numpy as np\n",
    "arr = np.array([[1,2,3],[4,5,6]])\n",
    "print(arr)"
   ]
  },
  {
   "cell_type": "code",
   "execution_count": 11,
   "id": "95025054-1896-40cf-9a96-5760c8ae8d91",
   "metadata": {},
   "outputs": [
    {
     "name": "stdout",
     "output_type": "stream",
     "text": [
      "[[[ 1  2  3]\n",
      "  [ 4  5  6]]\n",
      "\n",
      " [[11 12 13]\n",
      "  [14 15 16]]]\n"
     ]
    }
   ],
   "source": [
    "#3-D array\n",
    "import numpy as np\n",
    "arr = np.array([[[1,2,3],[4,5,6]],[[11,12,13],[14,15,16]]])\n",
    "print(arr)"
   ]
  },
  {
   "cell_type": "code",
   "execution_count": 17,
   "id": "ae7d957d-994f-445a-a58e-4f1597b127d5",
   "metadata": {},
   "outputs": [
    {
     "name": "stdout",
     "output_type": "stream",
     "text": [
      "0\n",
      "1\n",
      "2\n",
      "3\n"
     ]
    }
   ],
   "source": [
    "#find dimension of numpy array\n",
    "a = np.array(42)\n",
    "b = np.array([1,2,3,4,5])\n",
    "c = np.array([[1,2,3],[4,5,6]])\n",
    "d = np.array([[[1,2,3],[4,5,6]],[[1,2,3],[4,5,6]]])\n",
    "\n",
    "print(a.ndim)\n",
    "print(b.ndim)\n",
    "print(c.ndim)\n",
    "print(d.ndim)"
   ]
  },
  {
   "cell_type": "code",
   "execution_count": 18,
   "id": "08bd7aec-c7d1-45b7-8121-db7f85bf21ab",
   "metadata": {},
   "outputs": [],
   "source": [
    "# Save Function in numpy\n",
    "import numpy as np \n",
    "a = np.array([1,2,3,4,5])\n",
    "np.save('outfile',a)"
   ]
  },
  {
   "cell_type": "code",
   "execution_count": 1,
   "id": "5baa2a93-900c-4224-acb9-53c762398e83",
   "metadata": {},
   "outputs": [
    {
     "name": "stdout",
     "output_type": "stream",
     "text": [
      "[1 2 3 4 5]\n"
     ]
    }
   ],
   "source": [
    "# load function\n",
    "import numpy as np\n",
    "b = np.load(\"outfile.npy\")\n",
    "print(b)"
   ]
  },
  {
   "cell_type": "code",
   "execution_count": 2,
   "id": "6be5f25c-0318-4984-8516-b49568dd44da",
   "metadata": {},
   "outputs": [
    {
     "name": "stdout",
     "output_type": "stream",
     "text": [
      "<class 'numpy.ndarray'>\n",
      "int32\n",
      "[1. 2. 3. 4. 5.]\n",
      "<class 'numpy.ndarray'>\n",
      "float64\n"
     ]
    }
   ],
   "source": [
    "import numpy as np\n",
    "a = np.array([1,2,3,4,5])\n",
    "print(type(a))\n",
    "print(a.dtype)\n",
    "np.savetxt(\"out.txt\",a)\n",
    "b = np.loadtxt(\"out.txt\")\n",
    "print(b)\n",
    "print(type(b))\n",
    "print(b.dtype)"
   ]
  },
  {
   "cell_type": "code",
   "execution_count": 3,
   "id": "49d5e095-8019-444c-806c-3f1559920938",
   "metadata": {},
   "outputs": [
    {
     "name": "stdout",
     "output_type": "stream",
     "text": [
      "ELements of array: [1 3 5 7 9]\n",
      "Indexed Elements of array arr: [9 1 5 9 7]\n"
     ]
    }
   ],
   "source": [
    "import numpy as np\n",
    "arr = np.arange(1,10,2)\n",
    "print(\"ELements of array:\",arr)\n",
    "arr1 = arr[np.array([4,0,2,-1,-2])]\n",
    "print(\"Indexed Elements of array arr:\",arr1)"
   ]
  },
  {
   "cell_type": "code",
   "execution_count": 7,
   "id": "fad06db5-b263-438a-847f-bc409a6bcb94",
   "metadata": {},
   "outputs": [
    {
     "name": "stdout",
     "output_type": "stream",
     "text": [
      "Array arr1: [0 1 2 3]\n",
      "Element at index o of arri is:  0\n",
      "Element at index 1 of arr1 is:  1\n"
     ]
    }
   ],
   "source": [
    "#1-D array\n",
    "import numpy as np\n",
    "arr1 = np.arange(4)\n",
    "print(\"Array arr1:\",arr1)\n",
    "print(\"Element at index o of arri is: \",arr1[0])\n",
    "print(\"Element at index 1 of arr1 is: \",arr1[1])"
   ]
  },
  {
   "cell_type": "code",
   "execution_count": 8,
   "id": "fa6b3571-ee33-4b4f-8b5f-6880d3407b87",
   "metadata": {},
   "outputs": [
    {
     "name": "stdout",
     "output_type": "stream",
     "text": [
      "Array arr1:\n",
      " [[ 0  1  2  3]\n",
      " [ 4  5  6  7]\n",
      " [ 8  9 10 11]]\n",
      "Element at eth row and eth column of arr1 is: 0\n",
      "Element at 1th row and 2th column of arr1 is: 6\n"
     ]
    }
   ],
   "source": [
    "#2-D array\n",
    "import numpy as np\n",
    "arr = np.arange(12)\n",
    "arr1 = arr.reshape(3,4)\n",
    "print(\"Array arr1:\\n\",arr1)\n",
    "print(\"Element at eth row and eth column of arr1 is:\",arr1[0,0])\n",
    "print(\"Element at 1th row and 2th column of arr1 is:\",arr1[1,2])"
   ]
  },
  {
   "cell_type": "code",
   "execution_count": 9,
   "id": "95396655-57d3-4907-87d8-70336470726e",
   "metadata": {},
   "outputs": [
    {
     "name": "stdout",
     "output_type": "stream",
     "text": [
      "Array arr1 :\n",
      " [[[ 0  1  2]\n",
      "  [ 3  4  5]]\n",
      "\n",
      " [[ 6  7  8]\n",
      "  [ 9 10 11]]]\n",
      "ELement: 8\n"
     ]
    }
   ],
   "source": [
    "#3-D array\n",
    "import numpy as np\n",
    "arr=np.arange(12)\n",
    "arr1 = arr.reshape(2,2,3)\n",
    "print(\"Array arr1 :\\n\",arr1)\n",
    "print(\"ELement:\",arr1[1,0,2])"
   ]
  },
  {
   "cell_type": "code",
   "execution_count": 13,
   "id": "b265ce5d-5abc-4670-827e-18c13a6cf12f",
   "metadata": {},
   "outputs": [
    {
     "name": "stdout",
     "output_type": "stream",
     "text": [
      "Array arr: [0 1 2 3 4 5]\n",
      "Sliced element of array:  [1 2 3 4]\n",
      "Sliced element of array:  [1 2 3 4]\n"
     ]
    }
   ],
   "source": [
    "# Slicing a 1D array\n",
    "import numpy as np\n",
    "arr = np.arange(6)\n",
    "print(\"Array arr:\",arr)\n",
    "print(\"Sliced element of array: \",arr[1:5])\n",
    "print(\"Sliced element of array: \",arr[-5:-1])\n"
   ]
  },
  {
   "cell_type": "code",
   "execution_count": 20,
   "id": "f7ca4c80-5361-4625-825f-658ae7311c43",
   "metadata": {},
   "outputs": [
    {
     "name": "stdout",
     "output_type": "stream",
     "text": [
      "Array arr1:\n",
      " [[ 0  1  2  3]\n",
      " [ 4  5  6  7]\n",
      " [ 8  9 10 11]]\n",
      "\n",
      "\n",
      "Sliced element of 1st row and 1st column upto last column \n",
      ":  [[ 5  6  7]\n",
      " [ 9 10 11]]\n"
     ]
    }
   ],
   "source": [
    "# Slicing in 2D array\n",
    "import numpy as np\n",
    "arr = np.arange(12)\n",
    "arr1 = arr.reshape(3,4)\n",
    "print(\"Array arr1:\\n\",arr1)\n",
    "print(\"\\n\")\n",
    "print(\"Sliced element of 1st row and 1st column upto last column \\n: \",arr1[1:,1:4])"
   ]
  },
  {
   "cell_type": "code",
   "execution_count": 21,
   "id": "8ff8d726-25a7-4e61-9965-45e04c5cc60d",
   "metadata": {},
   "outputs": [
    {
     "name": "stdout",
     "output_type": "stream",
     "text": [
      "First array\n",
      "[[ 0.  0.  0.]\n",
      " [10. 10. 10.]\n",
      " [20. 20. 20.]\n",
      " [30. 30. 30.]]\n",
      "\n",
      "\n",
      "Second array\n",
      "[1. 2. 3.]\n",
      "\n",
      "\n",
      "First array + Second array\n",
      "[[ 1.  2.  3.]\n",
      " [11. 12. 13.]\n",
      " [21. 22. 23.]\n",
      " [31. 32. 33.]]\n"
     ]
    }
   ],
   "source": [
    "# Broadcasting in numpy\n",
    "\n",
    "import numpy as np\n",
    "a = np.array([[0.0,0.0,0.0],[10.0,10.0,10.0],[20.0,20.0,20.0],[30.0,30.0,30.0]])\n",
    "b = np.array([1.0,2.0,3.0])\n",
    "\n",
    "print(\"First array\")\n",
    "print(a)\n",
    "print(\"\\n\")\n",
    "\n",
    "print(\"Second array\")\n",
    "print(b)\n",
    "print(\"\\n\")\n",
    "\n",
    "print(\"First array + Second array\")\n",
    "print(a + b )\n"
   ]
  },
  {
   "cell_type": "code",
   "execution_count": 22,
   "id": "021ac237-3dd2-4bc0-ba7c-73457af181cf",
   "metadata": {},
   "outputs": [
    {
     "name": "stdout",
     "output_type": "stream",
     "text": [
      "[('Sana', 2, 21.) ('Mansi', 7, 29.)]\n"
     ]
    }
   ],
   "source": [
    "#structured array\n",
    "import numpy as np\n",
    "a = np.array([('Sana',2,21.0),('Mansi',7,29.0)],\n",
    "             dtype=[('name',(np. str_, 10)),('age',np.int32),('weight',np.float64)])\n",
    "print(a)"
   ]
  },
  {
   "cell_type": "code",
   "execution_count": 23,
   "id": "0e8bc188-2536-4047-9ac8-4df32486e705",
   "metadata": {},
   "outputs": [
    {
     "name": "stdout",
     "output_type": "stream",
     "text": [
      "3.5\n"
     ]
    }
   ],
   "source": [
    "# statistical function\n",
    "# mean\n",
    "import numpy as np\n",
    "arr = np.array([1,2,3,4,5,6])\n",
    "print(arr.mean())"
   ]
  },
  {
   "cell_type": "code",
   "execution_count": 24,
   "id": "f3bac5cd-7fb0-483c-8217-41029fc71c2c",
   "metadata": {},
   "outputs": [
    {
     "name": "stdout",
     "output_type": "stream",
     "text": [
      "3.5\n"
     ]
    }
   ],
   "source": [
    "# statistical function\n",
    "# median\n",
    "import numpy as np\n",
    "arr = np.array([1,2,3,4,5,6])\n",
    "median = np.median(arr)\n",
    "print(median)"
   ]
  },
  {
   "cell_type": "code",
   "execution_count": 25,
   "id": "9526ec53-9a31-425e-8e01-dc1cda1c7b78",
   "metadata": {},
   "outputs": [
    {
     "name": "stdout",
     "output_type": "stream",
     "text": [
      "5\n"
     ]
    }
   ],
   "source": [
    "# statistical function\n",
    "# range\n",
    "import numpy as np\n",
    "arr = np.array([1,2,3,4,5,6])\n",
    "range = np.ptp(arr)\n",
    "print(range)"
   ]
  },
  {
   "cell_type": "code",
   "execution_count": 26,
   "id": "ef26171b-f2cb-4f86-996f-be97175ce9cc",
   "metadata": {},
   "outputs": [
    {
     "name": "stdout",
     "output_type": "stream",
     "text": [
      "1.707825127659933\n"
     ]
    }
   ],
   "source": [
    "# statistical function\n",
    "# standard deviation\n",
    "import numpy as np\n",
    "arr = np.array([1,2,3,4,5,6])\n",
    "std = np.std(arr)\n",
    "print(std)"
   ]
  }
 ],
 "metadata": {
  "kernelspec": {
   "display_name": "Python 3 (ipykernel)",
   "language": "python",
   "name": "python3"
  },
  "language_info": {
   "codemirror_mode": {
    "name": "ipython",
    "version": 3
   },
   "file_extension": ".py",
   "mimetype": "text/x-python",
   "name": "python",
   "nbconvert_exporter": "python",
   "pygments_lexer": "ipython3",
   "version": "3.11.5"
  }
 },
 "nbformat": 4,
 "nbformat_minor": 5
}
