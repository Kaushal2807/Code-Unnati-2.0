{
 "cells": [
  {
   "cell_type": "code",
   "execution_count": 1,
   "id": "8b129810",
   "metadata": {},
   "outputs": [
    {
     "name": "stdout",
     "output_type": "stream",
     "text": [
      "2.1.4\n"
     ]
    }
   ],
   "source": [
    "# Version  Check\n",
    "import pandas as pd\n",
    "print(pd.__version__)"
   ]
  },
  {
   "cell_type": "code",
   "execution_count": 2,
   "id": "dcf0a952",
   "metadata": {},
   "outputs": [
    {
     "name": "stdout",
     "output_type": "stream",
     "text": [
      "Series([], dtype: object)\n",
      "0    g\n",
      "1    e\n",
      "2    e\n",
      "3    k\n",
      "4    s\n",
      "dtype: object\n"
     ]
    }
   ],
   "source": [
    "# Create Series from array\n",
    "\n",
    "import pandas as pd\n",
    "import numpy as np\n",
    "\n",
    "# Creating empty series.\n",
    "ser = pd.Series()\n",
    "print(ser)\n",
    "# Simple array\n",
    "data = np.array(['g','e','e','k','s'])\n",
    "ser = pd.Series(data)\n",
    "print(ser)"
   ]
  },
  {
   "cell_type": "code",
   "execution_count": 3,
   "id": "90a81fad",
   "metadata": {},
   "outputs": [
    {
     "name": "stdout",
     "output_type": "stream",
     "text": [
      "0    g\n",
      "1    e\n",
      "2    e\n",
      "3    k\n",
      "4    s\n",
      "dtype: object\n"
     ]
    }
   ],
   "source": [
    "# Creating series from Lists\n",
    "\n",
    "import pandas as pd\n",
    "#  a simple list\n",
    "list = np.array(['g','e','e','k','s'])\n",
    "\n",
    "ser = pd.Series(list)\n",
    "print(ser)"
   ]
  },
  {
   "cell_type": "code",
   "execution_count": 4,
   "id": "d573d190",
   "metadata": {},
   "outputs": [],
   "source": [
    "# there is one differnce betweeen creating array and list\n",
    "# to create series of array we need to use numpy and pandas array\n",
    "# to create series of list we need to only use pandas array"
   ]
  },
  {
   "cell_type": "code",
   "execution_count": 5,
   "id": "a8d00329",
   "metadata": {},
   "outputs": [
    {
     "name": "stdout",
     "output_type": "stream",
     "text": [
      "        Time.Month    Time.Year  Statistics.# of Delays.Carrier  \\\n",
      "count  4408.000000  4408.000000                     4408.000000   \n",
      "mean      6.578947  2009.243421                      574.632486   \n",
      "std       3.457890     3.667475                      329.616475   \n",
      "min       1.000000  2003.000000                      112.000000   \n",
      "25%       4.000000  2006.000000                      358.000000   \n",
      "50%       7.000000  2009.000000                      476.000000   \n",
      "75%      10.000000  2012.000000                      692.000000   \n",
      "max      12.000000  2016.000000                     3087.000000   \n",
      "\n",
      "       Statistics.# of Delays.Late Aircraft  \\\n",
      "count                           4408.000000   \n",
      "mean                             789.078947   \n",
      "std                              561.798420   \n",
      "min                               86.000000   \n",
      "25%                              425.000000   \n",
      "50%                              618.500000   \n",
      "75%                              959.000000   \n",
      "max                             4483.000000   \n",
      "\n",
      "       Statistics.# of Delays.National Aviation System  \\\n",
      "count                                      4408.000000   \n",
      "mean                                        954.580309   \n",
      "std                                         921.907801   \n",
      "min                                          61.000000   \n",
      "25%                                         399.000000   \n",
      "50%                                         667.500000   \n",
      "75%                                        1166.000000   \n",
      "max                                        9066.000000   \n",
      "\n",
      "       Statistics.# of Delays.Security  Statistics.# of Delays.Weather  \\\n",
      "count                      4408.000000                     4408.000000   \n",
      "mean                          5.575544                       78.216878   \n",
      "std                           6.007046                       75.181726   \n",
      "min                          -1.000000                        1.000000   \n",
      "25%                           2.000000                       33.000000   \n",
      "50%                           4.000000                       58.000000   \n",
      "75%                           7.000000                       98.000000   \n",
      "max                          94.000000                      812.000000   \n",
      "\n",
      "       Statistics.Carriers.Total  Statistics.Flights.Cancelled  \\\n",
      "count                4408.000000                   4408.000000   \n",
      "mean                   12.253403                    213.558076   \n",
      "std                     2.289861                    288.873477   \n",
      "min                     3.000000                      3.000000   \n",
      "25%                    11.000000                     58.000000   \n",
      "50%                    12.000000                    123.000000   \n",
      "75%                    14.000000                    250.000000   \n",
      "max                    18.000000                   3680.000000   \n",
      "\n",
      "       Statistics.Flights.Delayed  Statistics.Flights.Diverted  \\\n",
      "count                 4408.000000                  4408.000000   \n",
      "mean                  2402.000454                    27.880898   \n",
      "std                   1710.947613                    36.356399   \n",
      "min                    283.000000                     0.000000   \n",
      "25%                   1298.750000                     8.000000   \n",
      "50%                   1899.000000                    15.000000   \n",
      "75%                   2950.000000                    32.000000   \n",
      "max                  13699.000000                   442.000000   \n",
      "\n",
      "       Statistics.Flights.On Time  Statistics.Flights.Total  \\\n",
      "count                 4408.000000               4408.000000   \n",
      "mean                  9254.420826              11897.860254   \n",
      "std                   5337.214211               6861.691876   \n",
      "min                   2003.000000               2533.000000   \n",
      "25%                   5708.750000               7400.000000   \n",
      "50%                   7477.000000               9739.500000   \n",
      "75%                  10991.500000              13842.500000   \n",
      "max                  31468.000000              38241.000000   \n",
      "\n",
      "       Statistics.Minutes Delayed.Carrier  \\\n",
      "count                         4408.000000   \n",
      "mean                         35021.369782   \n",
      "std                          24327.721037   \n",
      "min                           6016.000000   \n",
      "25%                          19530.750000   \n",
      "50%                          27782.000000   \n",
      "75%                          41606.000000   \n",
      "max                         220796.000000   \n",
      "\n",
      "       Statistics.Minutes Delayed.Late Aircraft  \\\n",
      "count                               4408.000000   \n",
      "mean                               49410.274955   \n",
      "std                                38750.017050   \n",
      "min                                 5121.000000   \n",
      "25%                                25084.250000   \n",
      "50%                                37483.000000   \n",
      "75%                                59951.250000   \n",
      "max                               345456.000000   \n",
      "\n",
      "       Statistics.Minutes Delayed.National Aviation System  \\\n",
      "count                                        4408.000000     \n",
      "mean                                        45077.107985     \n",
      "std                                         57636.745683     \n",
      "min                                          2183.000000     \n",
      "25%                                         14389.000000     \n",
      "50%                                         25762.000000     \n",
      "75%                                         50362.000000     \n",
      "max                                        602479.000000     \n",
      "\n",
      "       Statistics.Minutes Delayed.Security  Statistics.Minutes Delayed.Total  \\\n",
      "count                          4408.000000                       4408.000000   \n",
      "mean                            211.769737                     135997.535163   \n",
      "std                             257.174789                     113972.276370   \n",
      "min                               0.000000                      14752.000000   \n",
      "25%                              65.000000                      65444.750000   \n",
      "50%                             141.000000                     100711.000000   \n",
      "75%                             274.000000                     164294.750000   \n",
      "max                            4949.000000                     989367.000000   \n",
      "\n",
      "       Statistics.Minutes Delayed.Weather  \n",
      "count                         4408.000000  \n",
      "mean                          6276.982759  \n",
      "std                           6477.417169  \n",
      "min                             46.000000  \n",
      "25%                           2310.750000  \n",
      "50%                           4298.500000  \n",
      "75%                           7846.000000  \n",
      "max                          76770.000000  \n"
     ]
    }
   ],
   "source": [
    "# Creating Index\n",
    "import pandas as pd\n",
    "data = pd.read_csv(\"airlines.csv\")\n",
    "print(data.describe())\n",
    "\n"
   ]
  },
  {
   "cell_type": "code",
   "execution_count": 6,
   "id": "3312ab18",
   "metadata": {},
   "outputs": [
    {
     "name": "stdout",
     "output_type": "stream",
     "text": [
      "        0\n",
      "0   Geeks\n",
      "1     For\n",
      "2   Geeks\n",
      "3      is\n",
      "4  portal\n",
      "5     for\n",
      "6   Geeks\n"
     ]
    }
   ],
   "source": [
    "# import pandas as pd import pandas as pd\n",
    "# lists of strings\n",
    "import pandas as pd\n",
    "lst=['Geeks','For','Geeks','is','portal','for','Geeks']\n",
    "df = pd.DataFrame(lst)\n",
    "print(df)\n"
   ]
  },
  {
   "cell_type": "code",
   "execution_count": 13,
   "id": "ad89aeff",
   "metadata": {},
   "outputs": [
    {
     "name": "stdout",
     "output_type": "stream",
     "text": [
      "    Name  Age\n",
      "0    Tom   20\n",
      "1   nick   21\n",
      "2  krish   19\n",
      "3   jack   18\n"
     ]
    }
   ],
   "source": [
    "import pandas as pd\n",
    "data = {'Name':['Tom' , 'nick' , 'krish' , 'jack'],'Age':[20,21,19,18]}\n",
    "#create Dataframe\n",
    "df = pd.DataFrame(data)\n",
    "print(df)"
   ]
  },
  {
   "cell_type": "code",
   "execution_count": 14,
   "id": "b9d9bd4c",
   "metadata": {},
   "outputs": [
    {
     "name": "stdout",
     "output_type": "stream",
     "text": [
      "         P   Q   R   S\n",
      "Parker   4   6  17  15\n",
      "William  7   8  13  19\n",
      "Smith    1  10  12   7\n",
      "Terry    8  15  16  21\n",
      "Phill    9  11  14   9\n"
     ]
    }
   ],
   "source": [
    "# RE-indexing = to create a new index\n",
    "# in other words = used to change the row labels and column labels of a DataFrame.\n",
    "info = pd.DataFrame({'P':[4,7,1,8,9],\n",
    "                    'Q':[6,8,10,15,11],\n",
    "                    'R':[17,13,12,16,14],\n",
    "                    'S':[15,19,7,21,9]},\n",
    "                   index = ['Parker' , 'William' , 'Smith' , 'Terry' , 'Phill'])\n",
    "print(info)"
   ]
  },
  {
   "cell_type": "code",
   "execution_count": 15,
   "id": "2554861b",
   "metadata": {
    "scrolled": true
   },
   "outputs": [
    {
     "name": "stdout",
     "output_type": "stream",
     "text": [
      "    P   Q   R   S\n",
      "A NaN NaN NaN NaN\n",
      "B NaN NaN NaN NaN\n",
      "C NaN NaN NaN NaN\n",
      "D NaN NaN NaN NaN\n",
      "E NaN NaN NaN NaN\n"
     ]
    }
   ],
   "source": [
    "#reindexing with new index\n",
    "abc = info.reindex([\"A\",\"B\",\"C\",\"D\",\"E\"])\n",
    "print(abc)"
   ]
  },
  {
   "cell_type": "code",
   "execution_count": 16,
   "id": "ede2008d",
   "metadata": {},
   "outputs": [
    {
     "name": "stdout",
     "output_type": "stream",
     "text": [
      "     P    Q    R    S\n",
      "A  100  100  100  100\n",
      "B  100  100  100  100\n",
      "C  100  100  100  100\n",
      "D  100  100  100  100\n",
      "E  100  100  100  100\n"
     ]
    }
   ],
   "source": [
    "#reindexing with new index\n",
    "abcd = info.reindex([\"A\",\"B\",\"C\",\"D\",\"E\"],fill_value=100)\n",
    "print(abcd)"
   ]
  },
  {
   "cell_type": "code",
   "execution_count": 12,
   "id": "46a1f14d",
   "metadata": {},
   "outputs": [
    {
     "name": "stdout",
     "output_type": "stream",
     "text": [
      "       col2      col1\n",
      "1 -0.364088 -1.959130\n",
      "4 -0.225631 -0.819571\n",
      "6  1.224369 -1.108206\n",
      "2 -0.110658  0.635328\n",
      "3 -2.013675 -0.435935\n",
      "5 -0.668795 -0.768631\n",
      "9  1.722978 -1.278674\n",
      "8  0.033996 -0.671585\n",
      "8 -1.091852  0.431294\n",
      "7  0.276418 -0.464105\n",
      "       col2      col1\n",
      "1 -0.364088 -1.959130\n",
      "2 -0.110658  0.635328\n",
      "3 -2.013675 -0.435935\n",
      "4 -0.225631 -0.819571\n",
      "5 -0.668795 -0.768631\n",
      "6  1.224369 -1.108206\n",
      "7  0.276418 -0.464105\n",
      "8  0.033996 -0.671585\n",
      "8 -1.091852  0.431294\n",
      "9  1.722978 -1.278674\n"
     ]
    }
   ],
   "source": [
    "# Unsorted dataframe into sorted dataframe\n",
    "import pandas as pd\n",
    "import numpy as np\n",
    "unsorted_df = pd.DataFrame(np.random.randn (10,2),index= [1,4,6,2,3,5,9,8,8,7],columns=['col2','col1'])\n",
    "print(unsorted_df)\n",
    "sorted_df = unsorted_df.sort_index()\n",
    "print(sorted_df)"
   ]
  },
  {
   "cell_type": "code",
   "execution_count": 18,
   "id": "22f70d48",
   "metadata": {},
   "outputs": [
    {
     "name": "stdout",
     "output_type": "stream",
     "text": [
      "       col2      col1\n",
      "1 -0.265729 -0.479576\n",
      "4 -0.035912  0.214540\n",
      "6  0.153857 -0.711346\n",
      "2  0.593264  0.299866\n",
      "3 -0.277945 -1.957706\n",
      "5 -1.391068  3.157908\n",
      "9 -0.411038 -3.084335\n",
      "8  1.521129 -0.098105\n",
      "8 -0.475893 -0.946852\n",
      "7 -0.421424  0.514497\n",
      "       col2      col1\n",
      "9 -0.411038 -3.084335\n",
      "8  1.521129 -0.098105\n",
      "8 -0.475893 -0.946852\n",
      "7 -0.421424  0.514497\n",
      "6  0.153857 -0.711346\n",
      "5 -1.391068  3.157908\n",
      "4 -0.035912  0.214540\n",
      "3 -0.277945 -1.957706\n",
      "2  0.593264  0.299866\n",
      "1 -0.265729 -0.479576\n"
     ]
    }
   ],
   "source": [
    "# Ascending dataframe\n",
    "#reindexing with new index\n",
    "import pandas as pd\n",
    "import numpy as np\n",
    "unsorted_df = pd.DataFrame(np.random.randn (10,2),index= [1,4,6,2,3,5,9,8,8,7],columns=['col2','col1'])\n",
    "print(unsorted_df)\n",
    "sorted_df = unsorted_df.sort_index(ascending=False)\n",
    "print(sorted_df)"
   ]
  },
  {
   "cell_type": "code",
   "execution_count": 19,
   "id": "8e60b662",
   "metadata": {},
   "outputs": [
    {
     "name": "stdout",
     "output_type": "stream",
     "text": [
      "       col2      col1\n",
      "1 -1.359989  0.409888\n",
      "4 -1.282703  0.178720\n",
      "6  0.467339  0.725037\n",
      "2  0.277188 -1.119438\n",
      "3 -1.860754  1.953088\n",
      "5  0.097423 -0.539337\n",
      "9  0.294516  0.670353\n",
      "8  0.034812 -0.055340\n",
      "8  0.091404 -0.988544\n",
      "7 -0.339063  0.805728\n",
      "       col1      col2\n",
      "1  0.409888 -1.359989\n",
      "4  0.178720 -1.282703\n",
      "6  0.725037  0.467339\n",
      "2 -1.119438  0.277188\n",
      "3  1.953088 -1.860754\n",
      "5 -0.539337  0.097423\n",
      "9  0.670353  0.294516\n",
      "8 -0.055340  0.034812\n",
      "8 -0.988544  0.091404\n",
      "7  0.805728 -0.339063\n"
     ]
    }
   ],
   "source": [
    "# axis = 0 => row\n",
    "# axis = 1 => columns\n",
    "\n",
    "\n",
    "import pandas as pd\n",
    "import numpy as np\n",
    "unsorted_df = pd.DataFrame(np.random.randn (10,2),index= [1,4,6,2,3,5,9,8,8,7],columns=['col2','col1'])\n",
    "print(unsorted_df)\n",
    "sorted_df = unsorted_df.sort_index(axis = 1)\n",
    "print(sorted_df)"
   ]
  },
  {
   "cell_type": "code",
   "execution_count": 20,
   "id": "1bfc64c6",
   "metadata": {},
   "outputs": [
    {
     "name": "stdout",
     "output_type": "stream",
     "text": [
      "       col2      col1\n",
      "1 -0.093956  0.188860\n",
      "4 -0.671522 -0.111966\n",
      "6  0.031934  0.773472\n",
      "2 -1.583295  1.261267\n",
      "3  1.456552 -1.483523\n",
      "5 -0.234965  0.404978\n",
      "9  0.056185  1.004531\n",
      "8 -1.889478 -1.025108\n",
      "8  1.368396  0.833833\n",
      "7  0.234479 -1.039242\n",
      "       col2      col1\n",
      "1 -0.093956  0.188860\n",
      "2 -1.583295  1.261267\n",
      "3  1.456552 -1.483523\n",
      "4 -0.671522 -0.111966\n",
      "5 -0.234965  0.404978\n",
      "6  0.031934  0.773472\n",
      "7  0.234479 -1.039242\n",
      "8 -1.889478 -1.025108\n",
      "8  1.368396  0.833833\n",
      "9  0.056185  1.004531\n"
     ]
    }
   ],
   "source": [
    "import pandas as pd\n",
    "import numpy as np\n",
    "unsorted_df = pd.DataFrame(np.random.randn (10,2),index= [1,4,6,2,3,5,9,8,8,7],columns=['col2','col1'])\n",
    "print(unsorted_df)\n",
    "sorted_df = unsorted_df.sort_index(axis = 0)\n",
    "print(sorted_df)"
   ]
  },
  {
   "cell_type": "code",
   "execution_count": 23,
   "id": "3a89dce7",
   "metadata": {},
   "outputs": [
    {
     "name": "stdout",
     "output_type": "stream",
     "text": [
      "   col1  col2\n",
      "0     2     1\n",
      "1     1     3\n",
      "2     1     2\n",
      "3     1     4\n",
      "   col1  col2\n",
      "1     1     3\n",
      "2     1     2\n",
      "3     1     4\n",
      "0     2     1\n"
     ]
    }
   ],
   "source": [
    "# Sort by values\n",
    "\n",
    "import pandas as pd\n",
    "import numpy as np\n",
    "unsorted_df  = pd.DataFrame({'col1':[2,1,1,1], 'col2':[1,3,2,4]})\n",
    "print(unsorted_df)\n",
    "sorted_df = unsorted_df.sort_values (by='col1')\n",
    "print(sorted_df)"
   ]
  },
  {
   "cell_type": "code",
   "execution_count": 24,
   "id": "c2a29ea4",
   "metadata": {},
   "outputs": [
    {
     "name": "stdout",
     "output_type": "stream",
     "text": [
      "0             tom\n",
      "1    william wick\n",
      "2            john\n",
      "3          albert\n",
      "4             NaN\n",
      "5            1234\n",
      "6      stevesmith\n",
      "dtype: object\n"
     ]
    }
   ],
   "source": [
    "s = pd.Series(['Tom','William Wick','John','Albert',np.nan,'1234','SteveSmith'])\n",
    "print(s.str.lower())"
   ]
  },
  {
   "cell_type": "code",
   "execution_count": 25,
   "id": "409c037d",
   "metadata": {},
   "outputs": [
    {
     "name": "stdout",
     "output_type": "stream",
     "text": [
      "0             TOM\n",
      "1    WILLIAM WICK\n",
      "2            JOHN\n",
      "3          ALBERT\n",
      "4             NaN\n",
      "5            1234\n",
      "6      STEVESMITH\n",
      "dtype: object\n"
     ]
    }
   ],
   "source": [
    "s = pd.Series(['Tom','William Wick','John','Albert',np.nan,'1234','SteveSmith'])\n",
    "print(s.str.upper())"
   ]
  },
  {
   "cell_type": "code",
   "execution_count": 27,
   "id": "2b01fbdd",
   "metadata": {},
   "outputs": [
    {
     "name": "stdout",
     "output_type": "stream",
     "text": [
      "0    False\n",
      "1    False\n",
      "2    False\n",
      "3    False\n",
      "4      NaN\n",
      "5    False\n",
      "6    False\n",
      "dtype: object\n"
     ]
    }
   ],
   "source": [
    "s = pd.Series(['Tom','William Wick','John','Albert',np.nan,'1234','SteveSmith'])\n",
    "print(s.str.islower())"
   ]
  },
  {
   "cell_type": "code",
   "execution_count": 29,
   "id": "2615332a",
   "metadata": {},
   "outputs": [
    {
     "name": "stdout",
     "output_type": "stream",
     "text": [
      "0     True\n",
      "1    False\n",
      "2    False\n",
      "3    False\n",
      "4      NaN\n",
      "5    False\n",
      "6    False\n",
      "dtype: object\n"
     ]
    }
   ],
   "source": [
    "s = pd.Series(['TOM','William Wick','John','Albert',np.nan,'1234','SteveSmith'])\n",
    "print(s.str.isupper())"
   ]
  },
  {
   "cell_type": "code",
   "execution_count": 31,
   "id": "9e052769",
   "metadata": {},
   "outputs": [
    {
     "name": "stdout",
     "output_type": "stream",
     "text": [
      "DataFrame = \n",
      "    Maths  Science  English\n",
      "0     90       92       95\n",
      "1     85       87       94\n",
      "2     98       59       84\n",
      "3     80       64       85\n",
      "4     55       87       86\n",
      "5     78       96       82\n",
      "InSum = \n",
      " Maths      486\n",
      "Science    485\n",
      "English    526\n",
      "dtype: int64\n"
     ]
    }
   ],
   "source": [
    "# Sum\n",
    "\n",
    "data ={\n",
    "'Maths' :[90, 85, 98, 80, 55, 78],\n",
    "'Science': [92, 87, 59, 64, 87, 96],\n",
    "'English':[95,94,84,85,86,82],\n",
    "}\n",
    "# DataFrame\n",
    "df = pd.DataFrame(data)\n",
    "# Display the DataFrame\n",
    "print(\"DataFrame = \\n\",df)\n",
    "# Display the Sum of Marks in each column\n",
    "print(\"InSum = \\n\",df.sum())\n"
   ]
  },
  {
   "cell_type": "code",
   "execution_count": 34,
   "id": "4a2ffdf1",
   "metadata": {},
   "outputs": [
    {
     "name": "stdout",
     "output_type": "stream",
     "text": [
      "DataFrame = \n",
      "    Maths  Science  English\n",
      "0   90.0      NaN     95.0\n",
      "1   85.0     87.0     94.0\n",
      "2   98.0      NaN     84.0\n",
      "3    NaN     64.0     85.0\n",
      "4   55.0     87.0     86.0\n",
      "5   78.0     96.0      NaN\n",
      "InSum = \n",
      " Maths      5\n",
      "Science    4\n",
      "English    5\n",
      "dtype: int64\n"
     ]
    }
   ],
   "source": [
    "# Count non none values\n",
    "data ={\n",
    "'Maths' :[90, 85, 98, None, 55, 78],\n",
    "'Science': [None, 87, None, 64, 87, 96],\n",
    "'English':[95,94,84,85,86,None],\n",
    "}\n",
    "# DataFrame\n",
    "df = pd.DataFrame(data)\n",
    "# Display the DataFrame\n",
    "print(\"DataFrame = \\n\",df)\n",
    "# Display the Sum of Marks in each column\n",
    "print(\"InSum = \\n\",df.count())"
   ]
  },
  {
   "cell_type": "code",
   "execution_count": 33,
   "id": "7068beed",
   "metadata": {},
   "outputs": [
    {
     "name": "stdout",
     "output_type": "stream",
     "text": [
      "DataFrame = \n",
      "    Maths  Science  English\n",
      "0     90       92       95\n",
      "1     85       87       94\n",
      "2     98       59       84\n",
      "3     80       64       85\n",
      "4     55       87       86\n",
      "5     78       96       82\n",
      "InSum = \n",
      " Maths      98\n",
      "Science    96\n",
      "English    95\n",
      "dtype: int64\n"
     ]
    }
   ],
   "source": [
    "# Max Value\n",
    "\n",
    "data ={\n",
    "'Maths' :[90, 85, 98, 80, 55, 78],\n",
    "'Science': [92, 87, 59, 64, 87, 96],\n",
    "'English':[95,94,84,85,86,82],\n",
    "}\n",
    "# DataFrame\n",
    "df = pd.DataFrame(data)\n",
    "# Display the DataFrame\n",
    "print(\"DataFrame = \\n\",df)\n",
    "# Display the Sum of Marks in each column\n",
    "print(\"InSum = \\n\",df.max())\n"
   ]
  },
  {
   "cell_type": "code",
   "execution_count": 35,
   "id": "727ea3c0",
   "metadata": {},
   "outputs": [
    {
     "name": "stdout",
     "output_type": "stream",
     "text": [
      "DataFrame = \n",
      "    Maths  Science  English\n",
      "0     90       92       95\n",
      "1     85       87       94\n",
      "2     98       59       84\n",
      "3     80       64       85\n",
      "4     55       87       86\n",
      "5     78       96       82\n",
      "InSum = \n",
      " Maths      81.000000\n",
      "Science    80.833333\n",
      "English    87.666667\n",
      "dtype: float64\n"
     ]
    }
   ],
   "source": [
    "# Mean value\n",
    "\n",
    "data ={\n",
    "'Maths' :[90, 85, 98, 80, 55, 78],\n",
    "'Science': [92, 87, 59, 64, 87, 96],\n",
    "'English':[95,94,84,85,86,82],\n",
    "}\n",
    "# DataFrame\n",
    "df = pd.DataFrame(data)\n",
    "# Display the DataFrame\n",
    "print(\"DataFrame = \\n\",df)\n",
    "# Display the Sum of Marks in each column\n",
    "print(\"InSum = \\n\",df.mean())\n"
   ]
  },
  {
   "cell_type": "code",
   "execution_count": 36,
   "id": "a3ca07a8",
   "metadata": {},
   "outputs": [
    {
     "name": "stdout",
     "output_type": "stream",
     "text": [
      "DataFrame = \n",
      "    Maths  Science  English\n",
      "0     90       92       95\n",
      "1     85       87       94\n",
      "2     98       59       84\n",
      "3     80       64       85\n",
      "4     55       87       86\n",
      "5     78       96       82\n",
      "InSum = \n",
      " Maths      82.5\n",
      "Science    87.0\n",
      "English    85.5\n",
      "dtype: float64\n"
     ]
    }
   ],
   "source": [
    "# Median value\n",
    "\n",
    "data ={\n",
    "'Maths' :[90, 85, 98, 80, 55, 78],\n",
    "'Science': [92, 87, 59, 64, 87, 96],\n",
    "'English':[95,94,84,85,86,82],\n",
    "}\n",
    "# DataFrame\n",
    "df = pd.DataFrame(data)\n",
    "# Display the DataFrame\n",
    "print(\"DataFrame = \\n\",df)\n",
    "# Display the Sum of Marks in each column\n",
    "print(\"InSum = \\n\",df.median())\n"
   ]
  },
  {
   "cell_type": "code",
   "execution_count": 39,
   "id": "5167a015",
   "metadata": {},
   "outputs": [
    {
     "name": "stdout",
     "output_type": "stream",
     "text": [
      "Name\n",
      "Avery Bradley    25.0\n",
      "Jae Crowder      25.0\n",
      "John Holland     27.0\n",
      "R.J. Hunter      22.0\n",
      "Jonas Jerebko    29.0\n",
      "                 ... \n",
      "Shelvin Mack     26.0\n",
      "Raul Neto        24.0\n",
      "Tibor Pleiss     26.0\n",
      "Jeff Withey      26.0\n",
      "NaN               NaN\n",
      "Name: Age, Length: 458, dtype: float64\n"
     ]
    }
   ],
   "source": [
    "import pandas as pd\n",
    "data = pd.read_csv(\"nba.csv\",index_col = \"Name\")\n",
    "first = data[\"Age\"]\n",
    "print(first)"
   ]
  },
  {
   "cell_type": "code",
   "execution_count": 43,
   "id": "9b8a2dff",
   "metadata": {},
   "outputs": [
    {
     "name": "stdout",
     "output_type": "stream",
     "text": [
      "Team        Boston Celtics\n",
      "Number                 0.0\n",
      "Position                PG\n",
      "Age                   25.0\n",
      "Height                 6-2\n",
      "Weight               180.0\n",
      "College              Texas\n",
      "Salary           7730337.0\n",
      "Name: Avery Bradley, dtype: object \n",
      "\n",
      " Team        Boston Celtics\n",
      "Number                28.0\n",
      "Position                SG\n",
      "Age                   22.0\n",
      "Height                 6-5\n",
      "Weight               185.0\n",
      "College      Georgia State\n",
      "Salary           1148640.0\n",
      "Name: R.J. Hunter, dtype: object\n"
     ]
    }
   ],
   "source": [
    "#making data frame from csv file\n",
    "data = pd.read_csv(\"nba.csv\",index_col=\"Name\")\n",
    "\n",
    "#retrieving row by loc method\n",
    "first = data.loc[\"Avery Bradley\"]\n",
    "second = data.loc[\"R.J. Hunter\"]\n",
    "print(first,\"\\n\\n\",second)"
   ]
  },
  {
   "cell_type": "code",
   "execution_count": 46,
   "id": "31b730b7",
   "metadata": {},
   "outputs": [
    {
     "name": "stdout",
     "output_type": "stream",
     "text": [
      "Team        Boston Celtics\n",
      "Number                28.0\n",
      "Position                SG\n",
      "Age                   22.0\n",
      "Height                 6-5\n",
      "Weight               185.0\n",
      "College      Georgia State\n",
      "Salary           1148640.0\n",
      "Name: R.J. Hunter, dtype: object\n"
     ]
    }
   ],
   "source": [
    "#making data frame from csv file\n",
    "data = pd.read_csv(\"nba.csv\",index_col=\"Name\")\n",
    "#retrieving rows by iloc method\n",
    "row2 = data.iloc[3]\n",
    "print(row2)\n",
    "#iloc is used to access the data with specific location"
   ]
  }
 ],
 "metadata": {
  "kernelspec": {
   "display_name": "Python 3 (ipykernel)",
   "language": "python",
   "name": "python3"
  },
  "language_info": {
   "codemirror_mode": {
    "name": "ipython",
    "version": 3
   },
   "file_extension": ".py",
   "mimetype": "text/x-python",
   "name": "python",
   "nbconvert_exporter": "python",
   "pygments_lexer": "ipython3",
   "version": "3.11.5"
  }
 },
 "nbformat": 4,
 "nbformat_minor": 5
}
