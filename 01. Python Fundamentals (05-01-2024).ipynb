{
 "cells": [
  {
   "cell_type": "code",
   "execution_count": 1,
   "id": "99ec3836",
   "metadata": {},
   "outputs": [],
   "source": [
    "# Different Variable Declartion\n",
    "myvar=\"Hello\"\n",
    "my_var=\"Hello\"\n",
    "_my_var=\"Hello\"\n",
    "myvar_=\"Hello\""
   ]
  },
  {
   "cell_type": "code",
   "execution_count": 2,
   "id": "0a685b51",
   "metadata": {},
   "outputs": [
    {
     "name": "stdout",
     "output_type": "stream",
     "text": [
      "Hello\n",
      "Hello\n",
      "Hello\n",
      "Hello\n"
     ]
    }
   ],
   "source": [
    "print(myvar)\n",
    "print(my_var)\n",
    "print(_my_var)\n",
    "print(myvar_)"
   ]
  },
  {
   "cell_type": "code",
   "execution_count": 3,
   "id": "24b3483f",
   "metadata": {},
   "outputs": [],
   "source": [
    "# Data Type\n",
    "a = 10\n",
    "b = \"Hello\"\n",
    "c = 10.5555\n",
    "d = 55.555555555555"
   ]
  },
  {
   "cell_type": "code",
   "execution_count": 4,
   "id": "7b16f803",
   "metadata": {},
   "outputs": [
    {
     "name": "stdout",
     "output_type": "stream",
     "text": [
      "<class 'int'>\n",
      "<class 'str'>\n",
      "<class 'float'>\n",
      "<class 'float'>\n"
     ]
    }
   ],
   "source": [
    "print(type(a))\n",
    "print(type(b))\n",
    "print(type(c))\n",
    "print(type(d))"
   ]
  },
  {
   "cell_type": "code",
   "execution_count": 5,
   "id": "d7ef28dd",
   "metadata": {},
   "outputs": [
    {
     "name": "stdout",
     "output_type": "stream",
     "text": [
      "10\n"
     ]
    }
   ],
   "source": [
    "# Function\n",
    "def hello():\n",
    "    a = 10\n",
    "    print(a)\n",
    "    return\n",
    "hello()"
   ]
  },
  {
   "cell_type": "code",
   "execution_count": 6,
   "id": "8912cecb",
   "metadata": {},
   "outputs": [
    {
     "name": "stdout",
     "output_type": "stream",
     "text": [
      "Welcome to code unnati 2.0\n"
     ]
    }
   ],
   "source": [
    "#Function\n",
    "a =\"Welcome to code unnati 2.0\"\n",
    "def hello():\n",
    "    a=20\n",
    "    print(a)\n",
    "    return\n",
    "print(a)"
   ]
  },
  {
   "cell_type": "code",
   "execution_count": 7,
   "id": "21976ae9",
   "metadata": {},
   "outputs": [
    {
     "name": "stdout",
     "output_type": "stream",
     "text": [
      "10\n",
      "<class 'int'>\n"
     ]
    }
   ],
   "source": [
    "a =  10 \n",
    "print(a)\n",
    "print(type(a))"
   ]
  },
  {
   "cell_type": "code",
   "execution_count": 8,
   "id": "9066cbd5",
   "metadata": {},
   "outputs": [
    {
     "name": "stdout",
     "output_type": "stream",
     "text": [
      "10 11 12 13\n"
     ]
    }
   ],
   "source": [
    "b,c,d = 11,12,13\n",
    "print(a,b,c,d)"
   ]
  },
  {
   "cell_type": "code",
   "execution_count": 9,
   "id": "6d39f15e",
   "metadata": {},
   "outputs": [
    {
     "name": "stdout",
     "output_type": "stream",
     "text": [
      "9\n"
     ]
    }
   ],
   "source": [
    "#Arithmetic Operator\n",
    "x = 5\n",
    "y = 4 \n",
    "print(x + y)"
   ]
  },
  {
   "cell_type": "code",
   "execution_count": 10,
   "id": "76d955ff",
   "metadata": {},
   "outputs": [
    {
     "name": "stdout",
     "output_type": "stream",
     "text": [
      "1\n"
     ]
    }
   ],
   "source": [
    "#Arithmetic Operator\n",
    "x = 5\n",
    "y = 4 \n",
    "print(x - y)"
   ]
  },
  {
   "cell_type": "code",
   "execution_count": 11,
   "id": "3dcf1f7b",
   "metadata": {},
   "outputs": [
    {
     "name": "stdout",
     "output_type": "stream",
     "text": [
      "20\n"
     ]
    }
   ],
   "source": [
    "#Arithmetic Operator\n",
    "x = 5\n",
    "y = 4 \n",
    "print(x * y)"
   ]
  },
  {
   "cell_type": "code",
   "execution_count": 12,
   "id": "165aa4f5",
   "metadata": {},
   "outputs": [
    {
     "name": "stdout",
     "output_type": "stream",
     "text": [
      "1.25\n"
     ]
    }
   ],
   "source": [
    "#Arithmetic Operator\n",
    "x = 5\n",
    "y = 4 \n",
    "print(x / y)"
   ]
  },
  {
   "cell_type": "code",
   "execution_count": 13,
   "id": "4375ebcf",
   "metadata": {},
   "outputs": [
    {
     "name": "stdout",
     "output_type": "stream",
     "text": [
      "8\n"
     ]
    }
   ],
   "source": [
    "#Assignment Operator\n",
    "x = 5\n",
    "x += 3 \n",
    "print(x)"
   ]
  },
  {
   "cell_type": "code",
   "execution_count": 14,
   "id": "095c6680",
   "metadata": {},
   "outputs": [
    {
     "name": "stdout",
     "output_type": "stream",
     "text": [
      "15\n"
     ]
    }
   ],
   "source": [
    "#Assignment Operator\n",
    "x = 5\n",
    "x *= 3 \n",
    "print(x)"
   ]
  },
  {
   "cell_type": "code",
   "execution_count": 15,
   "id": "380fabe6",
   "metadata": {},
   "outputs": [
    {
     "name": "stdout",
     "output_type": "stream",
     "text": [
      "2\n"
     ]
    }
   ],
   "source": [
    "#Assignment Operator\n",
    "x = 5\n",
    "x -= 3 \n",
    "print(x)"
   ]
  },
  {
   "cell_type": "code",
   "execution_count": 16,
   "id": "e4bccad3",
   "metadata": {},
   "outputs": [
    {
     "name": "stdout",
     "output_type": "stream",
     "text": [
      "1.6666666666666667\n"
     ]
    }
   ],
   "source": [
    "#Assignment Operator\n",
    "x = 5\n",
    "x /= 3 \n",
    "print(x)"
   ]
  },
  {
   "cell_type": "code",
   "execution_count": 17,
   "id": "49bf00ed",
   "metadata": {},
   "outputs": [
    {
     "name": "stdout",
     "output_type": "stream",
     "text": [
      "False\n"
     ]
    }
   ],
   "source": [
    "#Comparison Operator\n",
    "x = 5\n",
    "y = 3\n",
    "print(x == y)"
   ]
  },
  {
   "cell_type": "code",
   "execution_count": 18,
   "id": "a07706b1",
   "metadata": {},
   "outputs": [
    {
     "name": "stdout",
     "output_type": "stream",
     "text": [
      "True\n"
     ]
    }
   ],
   "source": [
    "#Comparison Operator\n",
    "x = 5\n",
    "y = 5\n",
    "print(x == y)"
   ]
  },
  {
   "cell_type": "code",
   "execution_count": 19,
   "id": "73b59ba0",
   "metadata": {},
   "outputs": [
    {
     "name": "stdout",
     "output_type": "stream",
     "text": [
      "True\n"
     ]
    }
   ],
   "source": [
    "#Comparison Operator\n",
    "x = 5\n",
    "y = 3\n",
    "print(x != y)"
   ]
  },
  {
   "cell_type": "code",
   "execution_count": 20,
   "id": "1475bfc7",
   "metadata": {},
   "outputs": [
    {
     "name": "stdout",
     "output_type": "stream",
     "text": [
      "True\n"
     ]
    }
   ],
   "source": [
    "#Logical Operator\n",
    "x = 5 \n",
    "print(x>3 and x<10)"
   ]
  },
  {
   "cell_type": "code",
   "execution_count": 21,
   "id": "91f6fb49",
   "metadata": {},
   "outputs": [
    {
     "name": "stdout",
     "output_type": "stream",
     "text": [
      "True\n"
     ]
    }
   ],
   "source": [
    "#Logical Operator\n",
    "x = 5 \n",
    "print(x>3 or x<10)"
   ]
  },
  {
   "cell_type": "code",
   "execution_count": 22,
   "id": "27809d36",
   "metadata": {},
   "outputs": [
    {
     "name": "stdout",
     "output_type": "stream",
     "text": [
      "False\n"
     ]
    }
   ],
   "source": [
    "#Logical Operator\n",
    "x = 5 \n",
    "print(not(x>3 and x<10))"
   ]
  },
  {
   "cell_type": "code",
   "execution_count": 23,
   "id": "a0cd68fb",
   "metadata": {},
   "outputs": [
    {
     "name": "stdout",
     "output_type": "stream",
     "text": [
      "Enter the value of x : 5\n",
      "Enter the value of y : 6\n",
      "30\n"
     ]
    }
   ],
   "source": [
    "# Input method\n",
    "x = int(input(\"Enter the value of x : \"))\n",
    "y = int(input(\"Enter the value of y : \"))\n",
    "z= x*y\n",
    "print(z)"
   ]
  },
  {
   "cell_type": "code",
   "execution_count": 24,
   "id": "ebf2302d",
   "metadata": {},
   "outputs": [
    {
     "name": "stdout",
     "output_type": "stream",
     "text": [
      "                     Python is a programming language        \n"
     ]
    }
   ],
   "source": [
    "statement = \"                     Python is a programming language        \"\n",
    "print(statement)"
   ]
  },
  {
   "cell_type": "code",
   "execution_count": 25,
   "id": "6bc60d8c",
   "metadata": {},
   "outputs": [
    {
     "data": {
      "text/plain": [
       "'                     python is a programming language        '"
      ]
     },
     "execution_count": 25,
     "metadata": {},
     "output_type": "execute_result"
    }
   ],
   "source": [
    "#Lower function\n",
    "statement.lower()"
   ]
  },
  {
   "cell_type": "code",
   "execution_count": 26,
   "id": "b3118008",
   "metadata": {},
   "outputs": [
    {
     "data": {
      "text/plain": [
       "'                     PYTHON IS A PROGRAMMING LANGUAGE        '"
      ]
     },
     "execution_count": 26,
     "metadata": {},
     "output_type": "execute_result"
    }
   ],
   "source": [
    "#Upper function\n",
    "statement.upper()"
   ]
  },
  {
   "cell_type": "code",
   "execution_count": 27,
   "id": "9749a790",
   "metadata": {},
   "outputs": [
    {
     "name": "stdout",
     "output_type": "stream",
     "text": [
      "<class 'str'>\n"
     ]
    }
   ],
   "source": [
    "print(type(statement))"
   ]
  },
  {
   "cell_type": "code",
   "execution_count": 28,
   "id": "8198230d",
   "metadata": {},
   "outputs": [
    {
     "data": {
      "text/plain": [
       "'                     Python Is A Programming Language        '"
      ]
     },
     "execution_count": 28,
     "metadata": {},
     "output_type": "execute_result"
    }
   ],
   "source": [
    "#First letter should be capital in title\n",
    "statement.title()"
   ]
  },
  {
   "cell_type": "code",
   "execution_count": 29,
   "id": "6425e956",
   "metadata": {},
   "outputs": [
    {
     "data": {
      "text/plain": [
       "'Python is a programming language        '"
      ]
     },
     "execution_count": 29,
     "metadata": {},
     "output_type": "execute_result"
    }
   ],
   "source": [
    "#Left side space removed\n",
    "statement.lstrip()"
   ]
  },
  {
   "cell_type": "code",
   "execution_count": 30,
   "id": "fda12233",
   "metadata": {},
   "outputs": [
    {
     "data": {
      "text/plain": [
       "'                     Python is a programming language'"
      ]
     },
     "execution_count": 30,
     "metadata": {},
     "output_type": "execute_result"
    }
   ],
   "source": [
    "#Right side space removed\n",
    "statement.rstrip()"
   ]
  },
  {
   "cell_type": "code",
   "execution_count": 31,
   "id": "c946f170",
   "metadata": {},
   "outputs": [
    {
     "data": {
      "text/plain": [
       "'Python is a programming language'"
      ]
     },
     "execution_count": 31,
     "metadata": {},
     "output_type": "execute_result"
    }
   ],
   "source": [
    "#both space removed\n",
    "statement.strip()"
   ]
  },
  {
   "cell_type": "code",
   "execution_count": 32,
   "id": "fe757854",
   "metadata": {},
   "outputs": [
    {
     "data": {
      "text/plain": [
       "'Python Programming Language'"
      ]
     },
     "execution_count": 32,
     "metadata": {},
     "output_type": "execute_result"
    }
   ],
   "source": [
    "#String Formating------default\n",
    "string=\"{} {} {}\".format('Python','Programming','Language')\n",
    "string "
   ]
  },
  {
   "cell_type": "code",
   "execution_count": 33,
   "id": "4d4baa43",
   "metadata": {},
   "outputs": [
    {
     "name": "stdout",
     "output_type": "stream",
     "text": [
      "\n",
      "Print String in order of Positional order: Programming Python Language\n"
     ]
    }
   ],
   "source": [
    "#Positional String Formating-----index\n",
    "string1=\"{1} {0} {2}\".format('Python','Programming','Language')\n",
    "print(\"\\nPrint String in order of Positional order:\",string1)"
   ]
  },
  {
   "cell_type": "code",
   "execution_count": 34,
   "id": "e1c7c86d",
   "metadata": {
    "scrolled": true
   },
   "outputs": [
    {
     "name": "stdout",
     "output_type": "stream",
     "text": [
      "\n",
      "Print String in order of Positional order: Python Programming Language\n"
     ]
    }
   ],
   "source": [
    "#Positional String Formating -----key wprd\n",
    "string1=\"{a} {e} {c}\".format(a='Python',e='Programming',c='Language')\n",
    "print(\"\\nPrint String in order of Positional order:\",string1)"
   ]
  },
  {
   "cell_type": "code",
   "execution_count": 35,
   "id": "de9e5090",
   "metadata": {
    "scrolled": true
   },
   "outputs": [
    {
     "name": "stdout",
     "output_type": "stream",
     "text": [
      "\n",
      "Print String in order of Positional order: Programming Python Language\n"
     ]
    }
   ],
   "source": [
    "#Positional String Formating ----key word\n",
    "string1=\"{e} {a} {c}\".format(a='Python',e='Programming',c='Language')\n",
    "print(\"\\nPrint String in order of Positional order:\",string1)"
   ]
  },
  {
   "cell_type": "code",
   "execution_count": 36,
   "id": "f69d49d6",
   "metadata": {},
   "outputs": [
    {
     "name": "stdout",
     "output_type": "stream",
     "text": [
      "\n",
      "Print String in order of Positional order: Language Python Programming\n"
     ]
    }
   ],
   "source": [
    "#Positional String Formating ----key word\n",
    "string1=\"{c} {a} {e}\".format(a='Python',e='Programming',c='Language')\n",
    "print(\"\\nPrint String in order of Positional order:\",string1)"
   ]
  },
  {
   "cell_type": "code",
   "execution_count": 37,
   "id": "793b77e2",
   "metadata": {},
   "outputs": [
    {
     "name": "stdout",
     "output_type": "stream",
     "text": [
      "Hello,My name is Priyanka and I am registrated for Code Unnati Program 2.0\n"
     ]
    }
   ],
   "source": [
    "# F-string method\n",
    "name='Priyanka'\n",
    "course = 'Code Unnati Program 2.0'\n",
    "print(f\"Hello,My name is {name} and I am registrated for {course}\")\n"
   ]
  },
  {
   "cell_type": "code",
   "execution_count": 38,
   "id": "a2e6098f",
   "metadata": {},
   "outputs": [],
   "source": [
    "# String Slicing\n",
    "str1=\"FACE\""
   ]
  },
  {
   "cell_type": "code",
   "execution_count": 39,
   "id": "faf0d693",
   "metadata": {},
   "outputs": [
    {
     "data": {
      "text/plain": [
       "'F'"
      ]
     },
     "execution_count": 39,
     "metadata": {},
     "output_type": "execute_result"
    }
   ],
   "source": [
    "str1[0]"
   ]
  },
  {
   "cell_type": "code",
   "execution_count": 40,
   "id": "dc90f238",
   "metadata": {},
   "outputs": [
    {
     "data": {
      "text/plain": [
       "'A'"
      ]
     },
     "execution_count": 40,
     "metadata": {},
     "output_type": "execute_result"
    }
   ],
   "source": [
    "str1[1]"
   ]
  },
  {
   "cell_type": "code",
   "execution_count": 41,
   "id": "4ec57c9e",
   "metadata": {},
   "outputs": [
    {
     "data": {
      "text/plain": [
       "'C'"
      ]
     },
     "execution_count": 41,
     "metadata": {},
     "output_type": "execute_result"
    }
   ],
   "source": [
    "str1[2]"
   ]
  },
  {
   "cell_type": "code",
   "execution_count": 42,
   "id": "7eadd48c",
   "metadata": {},
   "outputs": [
    {
     "data": {
      "text/plain": [
       "'E'"
      ]
     },
     "execution_count": 42,
     "metadata": {},
     "output_type": "execute_result"
    }
   ],
   "source": [
    "str1[3]"
   ]
  },
  {
   "cell_type": "code",
   "execution_count": 43,
   "id": "c272b5ca",
   "metadata": {},
   "outputs": [
    {
     "data": {
      "text/plain": [
       "'FA'"
      ]
     },
     "execution_count": 43,
     "metadata": {},
     "output_type": "execute_result"
    }
   ],
   "source": [
    "str1[0:2]"
   ]
  },
  {
   "cell_type": "code",
   "execution_count": 44,
   "id": "425b9851",
   "metadata": {},
   "outputs": [
    {
     "data": {
      "text/plain": [
       "'ECAF'"
      ]
     },
     "execution_count": 44,
     "metadata": {},
     "output_type": "execute_result"
    }
   ],
   "source": [
    "str1[::-1]"
   ]
  },
  {
   "cell_type": "code",
   "execution_count": 45,
   "id": "8c1c1f27",
   "metadata": {},
   "outputs": [
    {
     "data": {
      "text/plain": [
       "'FAC'"
      ]
     },
     "execution_count": 45,
     "metadata": {},
     "output_type": "execute_result"
    }
   ],
   "source": [
    "str1[-4:-1]"
   ]
  },
  {
   "cell_type": "code",
   "execution_count": 46,
   "id": "b7728865",
   "metadata": {},
   "outputs": [
    {
     "data": {
      "text/plain": [
       "''"
      ]
     },
     "execution_count": 46,
     "metadata": {},
     "output_type": "execute_result"
    }
   ],
   "source": [
    "# Not possible\n",
    "str1[-1:-4]"
   ]
  },
  {
   "cell_type": "code",
   "execution_count": 47,
   "id": "78bac78a",
   "metadata": {},
   "outputs": [
    {
     "data": {
      "text/plain": [
       "''"
      ]
     },
     "execution_count": 47,
     "metadata": {},
     "output_type": "execute_result"
    }
   ],
   "source": [
    "# Not possible\n",
    "str1[4:0]"
   ]
  },
  {
   "cell_type": "code",
   "execution_count": 48,
   "id": "3aa52638",
   "metadata": {},
   "outputs": [
    {
     "name": "stdout",
     "output_type": "stream",
     "text": [
      "['Parul', 22, 'Bharat', 45.5, 'Vadodara', 99]\n"
     ]
    }
   ],
   "source": [
    "# Lists\n",
    "\n",
    "list1 = [\"Parul\",22,\"Bharat\",45.5,\"Vadodara\",99]\n",
    "print(list1)"
   ]
  },
  {
   "cell_type": "code",
   "execution_count": 49,
   "id": "23e1f479",
   "metadata": {},
   "outputs": [
    {
     "name": "stdout",
     "output_type": "stream",
     "text": [
      "<class 'list'>\n"
     ]
    }
   ],
   "source": [
    "print(type(list1))"
   ]
  },
  {
   "cell_type": "code",
   "execution_count": 50,
   "id": "d2666da6",
   "metadata": {
    "scrolled": true
   },
   "outputs": [
    {
     "name": "stdout",
     "output_type": "stream",
     "text": [
      "['Parul', 22]\n"
     ]
    }
   ],
   "source": [
    "print(list1[0:2])"
   ]
  },
  {
   "cell_type": "code",
   "execution_count": 51,
   "id": "49577355",
   "metadata": {},
   "outputs": [
    {
     "name": "stdout",
     "output_type": "stream",
     "text": [
      "['Parul', 22, 'Bharat', 45.5, 'Vadodara', 99]\n"
     ]
    }
   ],
   "source": [
    "print(list1[0:])"
   ]
  },
  {
   "cell_type": "code",
   "execution_count": 52,
   "id": "67e4cc51",
   "metadata": {},
   "outputs": [
    {
     "data": {
      "text/plain": [
       "'Parul'"
      ]
     },
     "execution_count": 52,
     "metadata": {},
     "output_type": "execute_result"
    }
   ],
   "source": [
    "list1[0]"
   ]
  },
  {
   "cell_type": "code",
   "execution_count": 53,
   "id": "f923bc89",
   "metadata": {},
   "outputs": [
    {
     "data": {
      "text/plain": [
       "22"
      ]
     },
     "execution_count": 53,
     "metadata": {},
     "output_type": "execute_result"
    }
   ],
   "source": [
    "list1[1]"
   ]
  },
  {
   "cell_type": "code",
   "execution_count": 54,
   "id": "b72d6a47",
   "metadata": {},
   "outputs": [
    {
     "data": {
      "text/plain": [
       "45.5"
      ]
     },
     "execution_count": 54,
     "metadata": {},
     "output_type": "execute_result"
    }
   ],
   "source": [
    "# Get Value\n",
    "list1[3]"
   ]
  },
  {
   "cell_type": "code",
   "execution_count": 55,
   "id": "2e925cef",
   "metadata": {},
   "outputs": [
    {
     "data": {
      "text/plain": [
       "99"
      ]
     },
     "execution_count": 55,
     "metadata": {},
     "output_type": "execute_result"
    }
   ],
   "source": [
    "# Get Value\n",
    "list1[5]"
   ]
  },
  {
   "cell_type": "code",
   "execution_count": 56,
   "id": "0a01169c",
   "metadata": {},
   "outputs": [
    {
     "data": {
      "text/plain": [
       "['Parul', 'Bharat', 'Vadodara']"
      ]
     },
     "execution_count": 56,
     "metadata": {},
     "output_type": "execute_result"
    }
   ],
   "source": [
    "# Skip index\n",
    "list1[0:5:2]"
   ]
  },
  {
   "cell_type": "code",
   "execution_count": 57,
   "id": "80fd0494",
   "metadata": {},
   "outputs": [
    {
     "data": {
      "text/plain": [
       "['Parul', 'Bharat', 'Vadodara']"
      ]
     },
     "execution_count": 57,
     "metadata": {},
     "output_type": "execute_result"
    }
   ],
   "source": [
    "# Skip index\n",
    "list1[::2]"
   ]
  },
  {
   "cell_type": "code",
   "execution_count": 58,
   "id": "1e0a0ac3",
   "metadata": {},
   "outputs": [
    {
     "name": "stdout",
     "output_type": "stream",
     "text": [
      "['Parul', 22, 'Bharat', 45.5, 'Vadodara', 99, 'Surendranagar']\n"
     ]
    }
   ],
   "source": [
    "# Add Value in list \n",
    "list1 = [\"Parul\",22,\"Bharat\",45.5,\"Vadodara\",99]\n",
    "list1.append(\"Surendranagar\")\n",
    "print(list1)"
   ]
  },
  {
   "cell_type": "code",
   "execution_count": 59,
   "id": "8f8944c7",
   "metadata": {},
   "outputs": [
    {
     "name": "stdout",
     "output_type": "stream",
     "text": [
      "['apple', 'banana', 'cherry', 'Orange']\n",
      "['apple', 'banana', 'cherry', 'Orange', 'Mango']\n"
     ]
    }
   ],
   "source": [
    "fruits=[\"apple\",\"banana\",\"cherry\"]\n",
    "fruits.append('Orange')\n",
    "print(fruits)\n",
    "fruits.append('Mango')\n",
    "print(fruits)"
   ]
  },
  {
   "cell_type": "code",
   "execution_count": 60,
   "id": "a27165f7",
   "metadata": {},
   "outputs": [
    {
     "name": "stdout",
     "output_type": "stream",
     "text": [
      "['apple', 'banana', 'cherry', 'Ford', 'BMW', 'Volvo']\n"
     ]
    }
   ],
   "source": [
    "fruits=['apple','banana','cherry']\n",
    "cars=['Ford','BMW','Volvo']\n",
    "fruits.extend(cars)\n",
    "print(fruits)"
   ]
  },
  {
   "cell_type": "code",
   "execution_count": 12,
   "id": "d8c9ca27",
   "metadata": {},
   "outputs": [
    {
     "name": "stdout",
     "output_type": "stream",
     "text": [
      "['apple', 'Orange', 'banana', 'cherry']\n"
     ]
    }
   ],
   "source": [
    "fruits=[\"apple\",\"banana\",\"cherry\"]\n",
    "fruits.insert(1,\"Orange\")\n",
    "print(fruits)"
   ]
  },
  {
   "cell_type": "code",
   "execution_count": 62,
   "id": "d2078012",
   "metadata": {},
   "outputs": [
    {
     "name": "stdout",
     "output_type": "stream",
     "text": [
      "['apple', 'banana', 'cherry']\n"
     ]
    }
   ],
   "source": [
    "fruits.pop(1) #banana is removed from index\n",
    "print(fruits)"
   ]
  },
  {
   "cell_type": "code",
   "execution_count": 63,
   "id": "2737cc6e",
   "metadata": {},
   "outputs": [
    {
     "name": "stdout",
     "output_type": "stream",
     "text": [
      "['apple', 'banana']\n"
     ]
    }
   ],
   "source": [
    "fruits=[\"apple\",\"banana\",\"cherry\"]\n",
    "fruits.remove(\"cherry\")\n",
    "print(fruits)"
   ]
  },
  {
   "cell_type": "code",
   "execution_count": 64,
   "id": "af92f3c1",
   "metadata": {},
   "outputs": [
    {
     "name": "stdout",
     "output_type": "stream",
     "text": [
      "['apple', 'cherry', 'banana']\n"
     ]
    }
   ],
   "source": [
    "fruits=[\"apple\",\"banana\",\"cherry\",\"banana\"] # only first banana is removed not all the banana is remove\n",
    "fruits.remove(\"banana\")\n",
    "print(fruits)"
   ]
  },
  {
   "cell_type": "code",
   "execution_count": 65,
   "id": "f29f1f25",
   "metadata": {},
   "outputs": [
    {
     "name": "stdout",
     "output_type": "stream",
     "text": [
      "['BMW', 'Ford', 'Value']\n"
     ]
    }
   ],
   "source": [
    "cars=['Ford','BMW','Value']  #Sorting \n",
    "cars.sort()\n",
    "print(cars)"
   ]
  },
  {
   "cell_type": "code",
   "execution_count": 66,
   "id": "8ad389f1",
   "metadata": {},
   "outputs": [
    {
     "name": "stdout",
     "output_type": "stream",
     "text": [
      "Enter the word:I love Python Programming language\n"
     ]
    }
   ],
   "source": [
    "# Spliting Method\n",
    "\n",
    "text = input(\"Enter the word:\")"
   ]
  },
  {
   "cell_type": "code",
   "execution_count": 67,
   "id": "69f70a55",
   "metadata": {},
   "outputs": [
    {
     "data": {
      "text/plain": [
       "['I', 'love', 'Python', 'Programming', 'language']"
      ]
     },
     "execution_count": 67,
     "metadata": {},
     "output_type": "execute_result"
    }
   ],
   "source": [
    "text.split()"
   ]
  },
  {
   "cell_type": "code",
   "execution_count": 68,
   "id": "4e33fdea",
   "metadata": {},
   "outputs": [
    {
     "name": "stdout",
     "output_type": "stream",
     "text": [
      "('Parul', 22, 'Bharat', 45.5, 'Vadodara', 99)\n",
      "<class 'tuple'>\n"
     ]
    }
   ],
   "source": [
    "# Tuples\n",
    "\n",
    "tup1=(\"Parul\",22,\"Bharat\",45.5,\"Vadodara\",99)\n",
    "print(tup1)\n",
    "print(type(tup1))"
   ]
  },
  {
   "cell_type": "code",
   "execution_count": 69,
   "id": "7a82e588",
   "metadata": {},
   "outputs": [
    {
     "name": "stdout",
     "output_type": "stream",
     "text": [
      "Vadodara\n"
     ]
    }
   ],
   "source": [
    "print(tup1[4])"
   ]
  },
  {
   "cell_type": "code",
   "execution_count": 70,
   "id": "1012703e",
   "metadata": {},
   "outputs": [
    {
     "name": "stdout",
     "output_type": "stream",
     "text": [
      "('Parul', 22, 'Bharat', 45.5, 'Vadodara', 99, 'python', 87)\n"
     ]
    }
   ],
   "source": [
    "# Contactination by using tuple\n",
    "\n",
    "tup2=(\"python\",87)\n",
    "tup3=tup1+tup2\n",
    "print(tup3)"
   ]
  },
  {
   "cell_type": "code",
   "execution_count": 71,
   "id": "a3a4294c",
   "metadata": {},
   "outputs": [
    {
     "name": "stdout",
     "output_type": "stream",
     "text": [
      "['Parul', 22, 'Bharat', 45.5, 'Vadodara', 99, 'python', 87]\n"
     ]
    }
   ],
   "source": [
    "tup1=[\"Parul\",22,\"Bharat\",45.5,\"Vadodara\",99]       # contaction by using list\n",
    "tup2=[\"python\",87]\n",
    "tup3=tup1+tup2\n",
    "print(tup3)"
   ]
  },
  {
   "cell_type": "code",
   "execution_count": 72,
   "id": "6fd46097",
   "metadata": {},
   "outputs": [
    {
     "name": "stdout",
     "output_type": "stream",
     "text": [
      "['Parul', 22, 'Bharat', 45.5, 'Vadodara', 99, 'python', 87, 'Parul', 22, 'Bharat', 45.5, 'Vadodara', 99, 'python', 87, 'Parul', 22, 'Bharat', 45.5, 'Vadodara', 99, 'python', 87]\n"
     ]
    }
   ],
   "source": [
    "print(tup3*3)  # tuple can multiple"
   ]
  },
  {
   "cell_type": "code",
   "execution_count": 73,
   "id": "3bef8d2b",
   "metadata": {
    "scrolled": true
   },
   "outputs": [
    {
     "name": "stdout",
     "output_type": "stream",
     "text": [
      "['Parul', 22, 'Bharat', 'Vadodara', 99, 'python', 87]\n"
     ]
    }
   ],
   "source": [
    "#immutable\n",
    "del tup3[3]\n",
    "print(tup3)"
   ]
  },
  {
   "cell_type": "code",
   "execution_count": 74,
   "id": "ded28836",
   "metadata": {},
   "outputs": [],
   "source": [
    "\n",
    "del tup3\n"
   ]
  },
  {
   "cell_type": "code",
   "execution_count": 75,
   "id": "adda6318",
   "metadata": {},
   "outputs": [
    {
     "name": "stdout",
     "output_type": "stream",
     "text": [
      "2\n"
     ]
    }
   ],
   "source": [
    "# Count Method\n",
    "\n",
    "numbers = (1,3,7,8,7,5,4,6,8,5)\n",
    "x = numbers.count(7)\n",
    "print(x)"
   ]
  },
  {
   "cell_type": "code",
   "execution_count": 76,
   "id": "a888e84f",
   "metadata": {},
   "outputs": [
    {
     "name": "stdout",
     "output_type": "stream",
     "text": [
      "5\n"
     ]
    }
   ],
   "source": [
    "x= numbers.index(5)\n",
    "print(x)"
   ]
  },
  {
   "cell_type": "code",
   "execution_count": 77,
   "id": "1ed2a039",
   "metadata": {
    "scrolled": true
   },
   "outputs": [
    {
     "name": "stdout",
     "output_type": "stream",
     "text": [
      "{'brand': 'Mahindra', 'model': 'Thar', 'year': 2010}\n",
      "<class 'dict'>\n"
     ]
    }
   ],
   "source": [
    "# Dictionary\n",
    "cars = {\n",
    "    \"brand\":\"Mahindra\",\n",
    "    \"model\":\"Thar\",\n",
    "    \"year\":2010\n",
    "}\n",
    "\n",
    "print(cars)\n",
    "print(type(cars))"
   ]
  },
  {
   "cell_type": "code",
   "execution_count": 78,
   "id": "3c8df30e",
   "metadata": {},
   "outputs": [
    {
     "name": "stdout",
     "output_type": "stream",
     "text": [
      "Thar\n"
     ]
    }
   ],
   "source": [
    "print(cars[\"model\"])"
   ]
  },
  {
   "cell_type": "code",
   "execution_count": 79,
   "id": "f522bdf4",
   "metadata": {},
   "outputs": [
    {
     "name": "stdout",
     "output_type": "stream",
     "text": [
      "dict_values(['Mahindra', 'Thar', 2010])\n"
     ]
    }
   ],
   "source": [
    "print(cars.values())"
   ]
  },
  {
   "cell_type": "code",
   "execution_count": 80,
   "id": "03595af7",
   "metadata": {},
   "outputs": [
    {
     "name": "stdout",
     "output_type": "stream",
     "text": [
      "dict_keys(['brand', 'model', 'year'])\n"
     ]
    }
   ],
   "source": [
    "print(cars.keys())"
   ]
  },
  {
   "cell_type": "code",
   "execution_count": 81,
   "id": "63193fe9",
   "metadata": {},
   "outputs": [
    {
     "name": "stdout",
     "output_type": "stream",
     "text": [
      "dict_items([('brand', 'Mahindra'), ('model', 'Thar'), ('year', 2010)])\n"
     ]
    }
   ],
   "source": [
    "print(cars.items())"
   ]
  },
  {
   "cell_type": "code",
   "execution_count": 82,
   "id": "8845d7d0",
   "metadata": {},
   "outputs": [
    {
     "name": "stdout",
     "output_type": "stream",
     "text": [
      "{'brand': 'Mahindra', 'model': 'Thar', 'year': 2012}\n"
     ]
    }
   ],
   "source": [
    "# Udating Items\n",
    "cars.update({\"year\":2012})\n",
    "print(cars)"
   ]
  },
  {
   "cell_type": "code",
   "execution_count": 83,
   "id": "3afd5d11",
   "metadata": {},
   "outputs": [
    {
     "name": "stdout",
     "output_type": "stream",
     "text": [
      "{'brand': 'Mahindra', 'model': 'Thar', 'year': 2012, 'color': 'black'}\n"
     ]
    }
   ],
   "source": [
    "# Adding Items\n",
    "\n",
    "cars[\"color\"]=\"black\"    \n",
    "print(cars)"
   ]
  },
  {
   "cell_type": "code",
   "execution_count": 84,
   "id": "4091f9a5",
   "metadata": {},
   "outputs": [
    {
     "name": "stdout",
     "output_type": "stream",
     "text": [
      "{'brand': 'Mahindra', 'year': 2012, 'color': 'black'}\n"
     ]
    }
   ],
   "source": [
    "# Removing Items\n",
    "cars.pop(\"model\")\n",
    "print(cars)"
   ]
  },
  {
   "cell_type": "code",
   "execution_count": 85,
   "id": "5bf121dd",
   "metadata": {},
   "outputs": [
    {
     "name": "stdout",
     "output_type": "stream",
     "text": [
      "{'Chemsitry', 'Physics', 'Maths', 'Hindi'}\n",
      "<class 'set'>\n"
     ]
    }
   ],
   "source": [
    "# Sets\n",
    "\n",
    "subjects={'Physics','Hindi','Chemsitry','Maths','Hindi'}\n",
    "print(subjects)\n",
    "print(type(subjects))"
   ]
  },
  {
   "cell_type": "code",
   "execution_count": 86,
   "id": "b209ebcd",
   "metadata": {},
   "outputs": [
    {
     "name": "stdout",
     "output_type": "stream",
     "text": [
      "{'Hindi', 'Social Science', 'Biology', 'History'}\n"
     ]
    }
   ],
   "source": [
    "subjects1={'History','Social Science','Biology','Hindi'}\n",
    "print(subjects1)"
   ]
  },
  {
   "cell_type": "code",
   "execution_count": 87,
   "id": "fb8ad897",
   "metadata": {},
   "outputs": [
    {
     "data": {
      "text/plain": [
       "{'Biology',\n",
       " 'Chemsitry',\n",
       " 'Hindi',\n",
       " 'History',\n",
       " 'Maths',\n",
       " 'Physics',\n",
       " 'Social Science'}"
      ]
     },
     "execution_count": 87,
     "metadata": {},
     "output_type": "execute_result"
    }
   ],
   "source": [
    "subjects|subjects1 # Union of two sets pip method "
   ]
  },
  {
   "cell_type": "code",
   "execution_count": 88,
   "id": "15f62096",
   "metadata": {},
   "outputs": [
    {
     "data": {
      "text/plain": [
       "{'Biology',\n",
       " 'Chemsitry',\n",
       " 'Hindi',\n",
       " 'History',\n",
       " 'Maths',\n",
       " 'Physics',\n",
       " 'Social Science'}"
      ]
     },
     "execution_count": 88,
     "metadata": {},
     "output_type": "execute_result"
    }
   ],
   "source": [
    "subjects.union(subjects1) # Union of two sets union method "
   ]
  },
  {
   "cell_type": "code",
   "execution_count": 89,
   "id": "31cb9509",
   "metadata": {},
   "outputs": [
    {
     "data": {
      "text/plain": [
       "{'Hindi'}"
      ]
     },
     "execution_count": 89,
     "metadata": {},
     "output_type": "execute_result"
    }
   ],
   "source": [
    "subjects.intersection(subjects1) # intersection of two sets "
   ]
  },
  {
   "cell_type": "code",
   "execution_count": 90,
   "id": "5fcbbf8e",
   "metadata": {},
   "outputs": [
    {
     "data": {
      "text/plain": [
       "3"
      ]
     },
     "execution_count": 90,
     "metadata": {},
     "output_type": "execute_result"
    }
   ],
   "source": [
    "# Length Function\n",
    "fruits=['apple','banana','cherry']\n",
    "len(fruits)"
   ]
  },
  {
   "cell_type": "code",
   "execution_count": 91,
   "id": "871ffc2a",
   "metadata": {},
   "outputs": [
    {
     "data": {
      "text/plain": [
       "5"
      ]
     },
     "execution_count": 91,
     "metadata": {},
     "output_type": "execute_result"
    }
   ],
   "source": [
    "# length of apple\n",
    "len(fruits[0])"
   ]
  },
  {
   "cell_type": "code",
   "execution_count": 92,
   "id": "288e0671",
   "metadata": {},
   "outputs": [
    {
     "data": {
      "text/plain": [
       "['Actor', 'Movie', 'year']"
      ]
     },
     "execution_count": 92,
     "metadata": {},
     "output_type": "execute_result"
    }
   ],
   "source": [
    "theater={\n",
    "    \"Movie\":\"Pushpa\",\n",
    "    \"Actor\":\"Allu Arjun\",\n",
    "    \"year\":2021\n",
    "}\n",
    "sorted(theater)"
   ]
  },
  {
   "cell_type": "code",
   "execution_count": 93,
   "id": "a3bc2cb8",
   "metadata": {},
   "outputs": [
    {
     "data": {
      "text/plain": [
       "8"
      ]
     },
     "execution_count": 93,
     "metadata": {},
     "output_type": "execute_result"
    }
   ],
   "source": [
    "# Max function\n",
    "\n",
    "numbers = (1,3,7,8,7,5,4,6,8,5)\n",
    "max(numbers)"
   ]
  },
  {
   "cell_type": "code",
   "execution_count": 94,
   "id": "0b91ee03",
   "metadata": {},
   "outputs": [
    {
     "data": {
      "text/plain": [
       "1"
      ]
     },
     "execution_count": 94,
     "metadata": {},
     "output_type": "execute_result"
    }
   ],
   "source": [
    "# Min function\n",
    "min(numbers)"
   ]
  },
  {
   "cell_type": "code",
   "execution_count": 95,
   "id": "cdce4eae",
   "metadata": {},
   "outputs": [
    {
     "data": {
      "text/plain": [
       "54"
      ]
     },
     "execution_count": 95,
     "metadata": {},
     "output_type": "execute_result"
    }
   ],
   "source": [
    "# Sum Function\n",
    "sum(numbers)"
   ]
  },
  {
   "cell_type": "code",
   "execution_count": 96,
   "id": "59768d1b",
   "metadata": {},
   "outputs": [
    {
     "data": {
      "text/plain": [
       "['__add__',\n",
       " '__class__',\n",
       " '__class_getitem__',\n",
       " '__contains__',\n",
       " '__delattr__',\n",
       " '__delitem__',\n",
       " '__dir__',\n",
       " '__doc__',\n",
       " '__eq__',\n",
       " '__format__',\n",
       " '__ge__',\n",
       " '__getattribute__',\n",
       " '__getitem__',\n",
       " '__getstate__',\n",
       " '__gt__',\n",
       " '__hash__',\n",
       " '__iadd__',\n",
       " '__imul__',\n",
       " '__init__',\n",
       " '__init_subclass__',\n",
       " '__iter__',\n",
       " '__le__',\n",
       " '__len__',\n",
       " '__lt__',\n",
       " '__mul__',\n",
       " '__ne__',\n",
       " '__new__',\n",
       " '__reduce__',\n",
       " '__reduce_ex__',\n",
       " '__repr__',\n",
       " '__reversed__',\n",
       " '__rmul__',\n",
       " '__setattr__',\n",
       " '__setitem__',\n",
       " '__sizeof__',\n",
       " '__str__',\n",
       " '__subclasshook__',\n",
       " 'append',\n",
       " 'clear',\n",
       " 'copy',\n",
       " 'count',\n",
       " 'extend',\n",
       " 'index',\n",
       " 'insert',\n",
       " 'pop',\n",
       " 'remove',\n",
       " 'reverse',\n",
       " 'sort']"
      ]
     },
     "execution_count": 96,
     "metadata": {},
     "output_type": "execute_result"
    }
   ],
   "source": [
    "# Methods in Lists\n",
    "\n",
    "dir(list)"
   ]
  },
  {
   "cell_type": "code",
   "execution_count": 101,
   "id": "7f1dec6b",
   "metadata": {},
   "outputs": [
    {
     "data": {
      "text/plain": [
       "['__add__',\n",
       " '__class__',\n",
       " '__contains__',\n",
       " '__delattr__',\n",
       " '__dir__',\n",
       " '__doc__',\n",
       " '__eq__',\n",
       " '__format__',\n",
       " '__ge__',\n",
       " '__getattribute__',\n",
       " '__getitem__',\n",
       " '__getnewargs__',\n",
       " '__getstate__',\n",
       " '__gt__',\n",
       " '__hash__',\n",
       " '__init__',\n",
       " '__init_subclass__',\n",
       " '__iter__',\n",
       " '__le__',\n",
       " '__len__',\n",
       " '__lt__',\n",
       " '__mod__',\n",
       " '__mul__',\n",
       " '__ne__',\n",
       " '__new__',\n",
       " '__reduce__',\n",
       " '__reduce_ex__',\n",
       " '__repr__',\n",
       " '__rmod__',\n",
       " '__rmul__',\n",
       " '__setattr__',\n",
       " '__sizeof__',\n",
       " '__str__',\n",
       " '__subclasshook__',\n",
       " 'capitalize',\n",
       " 'casefold',\n",
       " 'center',\n",
       " 'count',\n",
       " 'encode',\n",
       " 'endswith',\n",
       " 'expandtabs',\n",
       " 'find',\n",
       " 'format',\n",
       " 'format_map',\n",
       " 'index',\n",
       " 'isalnum',\n",
       " 'isalpha',\n",
       " 'isascii',\n",
       " 'isdecimal',\n",
       " 'isdigit',\n",
       " 'isidentifier',\n",
       " 'islower',\n",
       " 'isnumeric',\n",
       " 'isprintable',\n",
       " 'isspace',\n",
       " 'istitle',\n",
       " 'isupper',\n",
       " 'join',\n",
       " 'ljust',\n",
       " 'lower',\n",
       " 'lstrip',\n",
       " 'maketrans',\n",
       " 'partition',\n",
       " 'removeprefix',\n",
       " 'removesuffix',\n",
       " 'replace',\n",
       " 'rfind',\n",
       " 'rindex',\n",
       " 'rjust',\n",
       " 'rpartition',\n",
       " 'rsplit',\n",
       " 'rstrip',\n",
       " 'split',\n",
       " 'splitlines',\n",
       " 'startswith',\n",
       " 'strip',\n",
       " 'swapcase',\n",
       " 'title',\n",
       " 'translate',\n",
       " 'upper',\n",
       " 'zfill']"
      ]
     },
     "execution_count": 101,
     "metadata": {},
     "output_type": "execute_result"
    }
   ],
   "source": [
    "# Methods in string\n",
    "dir(str)"
   ]
  },
  {
   "cell_type": "code",
   "execution_count": 98,
   "id": "645d08da",
   "metadata": {},
   "outputs": [
    {
     "name": "stdout",
     "output_type": "stream",
     "text": [
      "<class 'int'>\n",
      "<class 'float'>\n"
     ]
    }
   ],
   "source": [
    "# Type casting\n",
    "n = 10 \n",
    "print(type(n))\n",
    "\n",
    "n = float(n)\n",
    "print(type(n))"
   ]
  },
  {
   "cell_type": "code",
   "execution_count": 100,
   "id": "4b1df59e",
   "metadata": {},
   "outputs": [
    {
     "name": "stdout",
     "output_type": "stream",
     "text": [
      "<class 'str'>\n",
      "10\n"
     ]
    }
   ],
   "source": [
    "n = 10\n",
    "n = str(n)\n",
    "print(type(n))\n",
    "print(n)"
   ]
  },
  {
   "cell_type": "code",
   "execution_count": 1,
   "id": "a23c1bb3",
   "metadata": {},
   "outputs": [
    {
     "name": "stdout",
     "output_type": "stream",
     "text": [
      "<class 'list'>\n",
      "<class 'tuple'>\n"
     ]
    }
   ],
   "source": [
    "fruits=['apple','banana','cherry']\n",
    "print(type(fruits))\n",
    "                                     # Coverted into tuple\n",
    "fruits = tuple(fruits)\n",
    "print(type(fruits))"
   ]
  }
 ],
 "metadata": {
  "kernelspec": {
   "display_name": "Python 3 (ipykernel)",
   "language": "python",
   "name": "python3"
  },
  "language_info": {
   "codemirror_mode": {
    "name": "ipython",
    "version": 3
   },
   "file_extension": ".py",
   "mimetype": "text/x-python",
   "name": "python",
   "nbconvert_exporter": "python",
   "pygments_lexer": "ipython3",
   "version": "3.11.5"
  }
 },
 "nbformat": 4,
 "nbformat_minor": 5
}
