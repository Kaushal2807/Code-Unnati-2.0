{
 "cells": [
  {
   "cell_type": "code",
   "execution_count": 1,
   "id": "badeebad",
   "metadata": {},
   "outputs": [
    {
     "name": "stdout",
     "output_type": "stream",
     "text": [
      "Enter First no:5\n",
      "Enter Second no:5\n",
      "Sum of a+b is: 10\n"
     ]
    }
   ],
   "source": [
    "def sum():\n",
    "    a=int(input(\"Enter First no:\"))\n",
    "    b=int(input(\"Enter Second no:\"))\n",
    "    sum=a+b\n",
    "    print(\"Sum of a+b is:\",sum)\n",
    "sum()"
   ]
  },
  {
   "cell_type": "code",
   "execution_count": 2,
   "id": "e40c0b27",
   "metadata": {},
   "outputs": [
    {
     "name": "stdout",
     "output_type": "stream",
     "text": [
      "Number is positive.\n",
      "The if statement is easy\n"
     ]
    }
   ],
   "source": [
    "number = 10 \n",
    "# check if number is greater than 0 or not \n",
    "if number > 0:\n",
    "    print(\"Number is positive.\")\n",
    "    \n",
    "print(\"The if statement is easy\")"
   ]
  },
  {
   "cell_type": "code",
   "execution_count": 3,
   "id": "721698e1",
   "metadata": {},
   "outputs": [
    {
     "name": "stdout",
     "output_type": "stream",
     "text": [
      "Number is positive.\n",
      "This statement is always executed\n"
     ]
    }
   ],
   "source": [
    "number = 10 \n",
    "# check if number is greater than 0 or not \n",
    "if number > 0:\n",
    "    print(\"Number is positive.\")\n",
    "    \n",
    "else:\n",
    "    print(\"Negative number\")\n",
    "print(\"This statement is always executed\")\n"
   ]
  },
  {
   "cell_type": "code",
   "execution_count": 4,
   "id": "fbcb238e",
   "metadata": {},
   "outputs": [
    {
     "name": "stdout",
     "output_type": "stream",
     "text": [
      "Enter your number:-5\n",
      "Number is positive.\n"
     ]
    }
   ],
   "source": [
    "number = int(input(\"Enter your number:-\"))\n",
    "# check if number is greater than 0 or not \n",
    "if number > 0:\n",
    "    print(\"Number is positive.\")\n",
    "    \n",
    "elif number==0:\n",
    "    print(\"Zero\")\n",
    "    \n",
    "else:\n",
    "    print(\"Negative Number\")\n"
   ]
  },
  {
   "cell_type": "code",
   "execution_count": 5,
   "id": "09a41c6d",
   "metadata": {},
   "outputs": [
    {
     "name": "stdout",
     "output_type": "stream",
     "text": [
      "Hello World\n",
      "Hello World\n",
      "Hello World\n"
     ]
    }
   ],
   "source": [
    "# Loops\n",
    "\n",
    "# While loop\n",
    "\n",
    "counter = 0\n",
    "while counter < 3:\n",
    "    print('Hello World')\n",
    "    counter = counter+1\n",
    "    \n"
   ]
  },
  {
   "cell_type": "code",
   "execution_count": 6,
   "id": "b5500fbd",
   "metadata": {},
   "outputs": [
    {
     "name": "stdout",
     "output_type": "stream",
     "text": [
      "0\n",
      "1\n",
      "2\n",
      "3\n",
      "4\n",
      "5\n",
      "6\n",
      "7\n",
      "8\n",
      "9\n"
     ]
    }
   ],
   "source": [
    "# For loop\n",
    "#  for i in range(Start,Stop,Steps)\n",
    "\n",
    "for i in range(10):\n",
    "    print(i)\n"
   ]
  },
  {
   "cell_type": "code",
   "execution_count": 7,
   "id": "23e98868",
   "metadata": {},
   "outputs": [
    {
     "name": "stdout",
     "output_type": "stream",
     "text": [
      "1\n",
      "2\n",
      "3\n",
      "4\n",
      "5\n",
      "6\n",
      "7\n"
     ]
    }
   ],
   "source": [
    "for i in range(1,8):\n",
    "    print(i)\n"
   ]
  },
  {
   "cell_type": "code",
   "execution_count": 8,
   "id": "c32df46e",
   "metadata": {},
   "outputs": [
    {
     "name": "stdout",
     "output_type": "stream",
     "text": [
      "1\n",
      "3\n",
      "5\n",
      "7\n"
     ]
    }
   ],
   "source": [
    "for i in range(1,8,2):\n",
    "    print(i)\n"
   ]
  },
  {
   "cell_type": "code",
   "execution_count": 9,
   "id": "f1198d4b",
   "metadata": {},
   "outputs": [
    {
     "name": "stdout",
     "output_type": "stream",
     "text": [
      "20\n",
      "19\n",
      "18\n",
      "17\n",
      "16\n",
      "15\n",
      "14\n",
      "13\n",
      "12\n",
      "11\n",
      "10\n",
      "9\n",
      "8\n",
      "7\n",
      "6\n",
      "5\n",
      "4\n",
      "3\n",
      "2\n",
      "1\n"
     ]
    }
   ],
   "source": [
    "# For loop in Decremental Order\n",
    "\n",
    "for i in range(20,0,-1):\n",
    "    print(i)\n"
   ]
  },
  {
   "cell_type": "code",
   "execution_count": 10,
   "id": "104acde7",
   "metadata": {},
   "outputs": [
    {
     "name": "stdout",
     "output_type": "stream",
     "text": [
      "P\n",
      "y\n",
      "h\n",
      "t\n",
      "o\n",
      "n\n"
     ]
    }
   ],
   "source": [
    "for letter in \"Pyhton\":\n",
    "    print(letter)"
   ]
  },
  {
   "cell_type": "code",
   "execution_count": 11,
   "id": "c3f84bff",
   "metadata": {},
   "outputs": [
    {
     "name": "stdout",
     "output_type": "stream",
     "text": [
      "apple\n",
      "banana\n",
      "cherry\n"
     ]
    }
   ],
   "source": [
    "fruits = ['apple','banana','cherry']\n",
    "for fruit in fruits:\n",
    "    print(fruit)"
   ]
  },
  {
   "cell_type": "code",
   "execution_count": 12,
   "id": "0b508709",
   "metadata": {},
   "outputs": [
    {
     "name": "stdout",
     "output_type": "stream",
     "text": [
      "1\n",
      "2\n",
      "3\n"
     ]
    }
   ],
   "source": [
    "#  Break Statement \n",
    "i = 1\n",
    "while i<9:\n",
    "    print(i)\n",
    "    if i == 3:\n",
    "        break\n",
    "    i+=1\n",
    "    \n",
    "\n"
   ]
  },
  {
   "cell_type": "code",
   "execution_count": 13,
   "id": "7fa40482",
   "metadata": {},
   "outputs": [
    {
     "name": "stdout",
     "output_type": "stream",
     "text": [
      "9\n"
     ]
    }
   ],
   "source": [
    "# Pass statement \n",
    "n = 8\n",
    "if n>10:\n",
    "    pass\n",
    "else: \n",
    "    n+=1\n",
    "    print(n)"
   ]
  },
  {
   "cell_type": "code",
   "execution_count": 14,
   "id": "191b4bf9",
   "metadata": {},
   "outputs": [
    {
     "name": "stdout",
     "output_type": "stream",
     "text": [
      "1 2 4 5 6 7 8 9 10 "
     ]
    }
   ],
   "source": [
    "# Continue Statement\n",
    "i=0\n",
    "while i<10:\n",
    "    i += 1\n",
    "    if i== 3:\n",
    "        continue\n",
    "    print(i,end=\" \")"
   ]
  },
  {
   "cell_type": "markdown",
   "id": "2f54e762",
   "metadata": {},
   "source": [
    "# Python Program: 1"
   ]
  },
  {
   "cell_type": "code",
   "execution_count": 15,
   "id": "78d87c93",
   "metadata": {},
   "outputs": [
    {
     "name": "stdout",
     "output_type": "stream",
     "text": [
      "Total Bill Amount: 5.6\n"
     ]
    }
   ],
   "source": [
    "def calculate_total_bill(items,prices):\n",
    "    if len(items) != len(prices):\n",
    "        return \"Error: The number of items and prices should not be same.\"\n",
    "    \n",
    "    total_bill = 0\n",
    "    for price in prices:\n",
    "        total_bill += price\n",
    "    return total_bill\n",
    "    \n",
    "# Examples usage:\n",
    "\n",
    "items_list = [\"Apple\",\"Banana\",\"Milk\",\"Bread\"]\n",
    "prices_list = [1.2,0.6,2.3,1.5]\n",
    "total_bill_amount = calculate_total_bill(items_list,prices_list)\n",
    "print(\"Total Bill Amount:\",total_bill_amount)"
   ]
  },
  {
   "cell_type": "markdown",
   "id": "d1106b68",
   "metadata": {},
   "source": [
    "# Python Program: 2"
   ]
  },
  {
   "cell_type": "code",
   "execution_count": 16,
   "id": "be3d83a2",
   "metadata": {},
   "outputs": [
    {
     "name": "stdout",
     "output_type": "stream",
     "text": [
      "2\n",
      "4\n",
      "6\n",
      "8\n",
      "10\n",
      "Total number of even number:- 5\n"
     ]
    }
   ],
   "source": [
    "def count_even(lst):\n",
    "    count = 0\n",
    "    for i in range(len(lst)):\n",
    "        if lst[i]%2 == 0:\n",
    "            count +=1\n",
    "            print(lst[i])\n",
    "    return count\n",
    "lst = [1,2,3,4,5,6,7,8,9,10]\n",
    "cnt = count_even(lst)\n",
    "print(\"Total number of even number:-\",cnt)"
   ]
  },
  {
   "cell_type": "code",
   "execution_count": 17,
   "id": "41d9d133",
   "metadata": {},
   "outputs": [
    {
     "name": "stdout",
     "output_type": "stream",
     "text": [
      "15\n"
     ]
    }
   ],
   "source": [
    "# Lambda Function\n",
    "\n",
    "x= lambda a:a+10\n",
    "print(x(5))"
   ]
  },
  {
   "cell_type": "code",
   "execution_count": 18,
   "id": "13d087bf",
   "metadata": {},
   "outputs": [
    {
     "name": "stdout",
     "output_type": "stream",
     "text": [
      "30\n"
     ]
    }
   ],
   "source": [
    "x = lambda a,b : a*b\n",
    "print((x(5,6)))"
   ]
  },
  {
   "cell_type": "code",
   "execution_count": 19,
   "id": "6d67dd51",
   "metadata": {},
   "outputs": [
    {
     "name": "stdout",
     "output_type": "stream",
     "text": [
      "90\n"
     ]
    }
   ],
   "source": [
    "x= lambda a,b:(a+10)*b\n",
    "print(x(5,6))"
   ]
  },
  {
   "cell_type": "code",
   "execution_count": 25,
   "id": "2283e49f",
   "metadata": {},
   "outputs": [
    {
     "name": "stdout",
     "output_type": "stream",
     "text": [
      "Enter the numerator:aa\n",
      "Error:Please enter Valid integers for numertor and denominor\n"
     ]
    }
   ],
   "source": [
    "# Exection Handling\n",
    "try:\n",
    "    numerator = int(input(\"Enter the numerator:\"))\n",
    "    denominator = int(input(\"Enter the denominator:\"))    \n",
    "    result = numerator/denominator\n",
    "    print(\"Result:\",result)\n",
    "except ZeroDivisionError:\n",
    "    print(\"Error:Cannot divides by Zero.\")\n",
    "except ValueError:\n",
    "    print(\"Error:Please enter Valid integers for numertor and denominor\")"
   ]
  },
  {
   "cell_type": "code",
   "execution_count": 23,
   "id": "e89738a3",
   "metadata": {},
   "outputs": [
    {
     "name": "stdout",
     "output_type": "stream",
     "text": [
      "Enter  a number:aa\n",
      "Error:Please enter valid integer.\n"
     ]
    }
   ],
   "source": [
    "try:\n",
    "    number = int(input(\"Enter  a number:\"))\n",
    "except ValueError:\n",
    "    print(\"Error:Please enter valid integer.\")\n",
    "else:\n",
    "    square = number **2 \n",
    "    print(\"Square of the number:\",square)"
   ]
  },
  {
   "cell_type": "code",
   "execution_count": 1,
   "id": "909a96fb",
   "metadata": {},
   "outputs": [
    {
     "name": "stdout",
     "output_type": "stream",
     "text": [
      "Hello World\n"
     ]
    }
   ],
   "source": [
    "try:\n",
    "    file = open(\"data.txt\",\"r\")\n",
    "    content = file.read()\n",
    "    print(content)\n",
    "except FileNotFoundError:\n",
    "    print(\"Error:File not found:\")\n",
    "finally:\n",
    "    if'file' in locals():\n",
    "        file.close()"
   ]
  }
 ],
 "metadata": {
  "kernelspec": {
   "display_name": "Python 3 (ipykernel)",
   "language": "python",
   "name": "python3"
  },
  "language_info": {
   "codemirror_mode": {
    "name": "ipython",
    "version": 3
   },
   "file_extension": ".py",
   "mimetype": "text/x-python",
   "name": "python",
   "nbconvert_exporter": "python",
   "pygments_lexer": "ipython3",
   "version": "3.11.5"
  }
 },
 "nbformat": 4,
 "nbformat_minor": 5
}
